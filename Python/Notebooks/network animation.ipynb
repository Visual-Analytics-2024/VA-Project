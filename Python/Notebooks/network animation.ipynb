{
  "cells": [
    {
      "cell_type": "code",
      "execution_count": null,
      "metadata": {
        "id": "zz7QeU4xlt--"
      },
      "outputs": [],
      "source": [
        "import matplotlib.pyplot as plt\n",
        "import pandas as pd\n",
        "import networkx as nx\n",
        "import numpy as np\n",
        "from matplotlib.animation import FuncAnimation\n",
        "from matplotlib import animation\n",
        "from collections import Counter\n"
      ]
    },
    {
      "cell_type": "code",
      "execution_count": null,
      "metadata": {
        "id": "33yD5CIbm4DC"
      },
      "outputs": [],
      "source": [
        "def adjust_map_coordinates(corordinates):\n",
        "    y_cordinate = []\n",
        "    midpoint = 982/2\n",
        "    x_length = 982\n",
        "    y_length = 982\n",
        "    for j in list(corordinates['y_coordinate']):\n",
        "        if j > midpoint:\n",
        "            y_cordinate.append(y_length-j)\n",
        "        elif j <midpoint:\n",
        "            y_cordinate.append(x_length-j)\n",
        "        else:\n",
        "            y_cordinate.append(j)\n",
        "    corordinates['y_coordinate'] = y_cordinate\n",
        "    pos = {}\n",
        "    for key,x,y in zip(list(corordinates['gate_name']),list(corordinates['x_coordinate']),list(corordinates['y_coordinate'])):\n",
        "        pos[key] = np.array([x,y])\n",
        "    return corordinates, pos"
      ]
    },
    {
      "cell_type": "markdown",
      "metadata": {
        "id": "Iy5nCp9jZZpw"
      },
      "source": [
        "# cleaning"
      ]
    },
    {
      "cell_type": "code",
      "execution_count": null,
      "metadata": {
        "id": "ovoT7RQ6mqdT"
      },
      "outputs": [],
      "source": [
        "import json"
      ]
    },
    {
      "cell_type": "code",
      "execution_count": null,
      "metadata": {
        "id": "4TUCzKQitESh"
      },
      "outputs": [],
      "source": [
        "file_ = open(\"/content/sample_data/json_data.json\")"
      ]
    },
    {
      "cell_type": "code",
      "execution_count": null,
      "metadata": {
        "id": "pWNXA5UHtLK_"
      },
      "outputs": [],
      "source": [
        "data = json.load(file_)"
      ]
    },
    {
      "cell_type": "code",
      "execution_count": null,
      "metadata": {
        "id": "U7Tyh4Nmtpjq"
      },
      "outputs": [],
      "source": [
        "nodes_df = pd.DataFrame(columns=[\"in_date\",\"out_date\",\"node\",\"edge\",\"count\"])"
      ]
    },
    {
      "cell_type": "code",
      "execution_count": null,
      "metadata": {
        "colab": {
          "base_uri": "https://localhost:8080/"
        },
        "id": "qgPymaCLtaEj",
        "outputId": "5f0ee8a8-ca49-4c22-8ee7-b663578030b0"
      },
      "outputs": [
        {
          "name": "stdout",
          "output_type": "stream",
          "text": [
            "1  Completed\n",
            "2  Completed\n",
            "3  Completed\n",
            "4  Completed\n",
            "5  Completed\n",
            "6  Completed\n",
            "2P  Completed\n"
          ]
        }
      ],
      "source": [
        "for cartype in data['data']:\n",
        "  for car in data['data'][cartype]:\n",
        "    start = pd.to_datetime(car['enter_date'])\n",
        "    for path in car['path_taken']:\n",
        "      end = start + pd.Timedelta( minutes = list(path.values())[0])\n",
        "      temp = list(path.keys())[0]\n",
        "      nodes_df.loc[len(nodes_df)] = [str(start),str(end),temp.split(\" \")[0],temp,1]\n",
        "      start = end\n",
        "\n",
        "  print(cartype+\"  Completed\")\n"
      ]
    },
    {
      "cell_type": "code",
      "execution_count": null,
      "metadata": {
        "id": "VWMMHmBJyjqX"
      },
      "outputs": [],
      "source": [
        "nodes_df['in_date'] = pd.to_datetime(nodes_df['in_date'])\n",
        "nodes_df['out_date'] = pd.to_datetime(nodes_df['out_date'])"
      ]
    },
    {
      "cell_type": "code",
      "execution_count": null,
      "metadata": {
        "id": "PteNm7RxCMat"
      },
      "outputs": [],
      "source": [
        "nodesdf = nodes_df.sort_values(by=\"in_date\")"
      ]
    },
    {
      "cell_type": "code",
      "execution_count": null,
      "metadata": {
        "id": "4ISJdG7ZCSJJ"
      },
      "outputs": [],
      "source": [
        "nodesdf.to_csv(\"nodes.csv\")"
      ]
    },
    {
      "cell_type": "code",
      "execution_count": null,
      "metadata": {
        "id": "nCj4LJPkXGoF"
      },
      "outputs": [],
      "source": [
        "nodesdf.reset_index(inplace=True,drop=True)"
      ]
    },
    {
      "cell_type": "markdown",
      "metadata": {
        "id": "IFnJ6BQtZeT8"
      },
      "source": [
        "# Test"
      ]
    },
    {
      "cell_type": "code",
      "execution_count": null,
      "metadata": {
        "id": "CFR5Ixs7_dOM"
      },
      "outputs": [],
      "source": [
        "start = list(nodesdf['in_date'])[0] -pd.Timedelta(seconds=5)\n",
        "now = start +pd.Timedelta(minutes=1050)\n",
        "temp = nodesdf[(nodesdf['in_date']<now) & (nodesdf['out_date']>now)]\n",
        "nodes, n_weights = tuple(map(list,(Counter(temp['node']).keys() ,Counter(temp['node']).values())))\n",
        "edges, e_weights =  tuple(map(list,(Counter(temp['edge']).keys(),Counter(temp['edge']).values())))\n",
        "edges = [(i.split(\" \")[0],i.split(\" \")[-1]) for i in edges]"
      ]
    },
    {
      "cell_type": "code",
      "execution_count": null,
      "metadata": {
        "id": "6_SIzZAmzG7X"
      },
      "outputs": [],
      "source": [
        "c = max(nodes_df['out_date']) - min(nodes_df['in_date'])"
      ]
    },
    {
      "cell_type": "code",
      "execution_count": null,
      "metadata": {
        "id": "3T6fLD1f2dj-"
      },
      "outputs": [],
      "source": [
        "x  =[i.total_seconds() for i in list(nodes_df['out_date']-nodes_df['in_date'])]"
      ]
    },
    {
      "cell_type": "code",
      "execution_count": null,
      "metadata": {
        "id": "r_d9f-4yZnIe"
      },
      "outputs": [],
      "source": [
        "corordinates = pd.read_csv('/content/sample_data/Mapping Park Area.csv')\n",
        "corordinates,pos = adjust_map_coordinates(corordinates)"
      ]
    },
    {
      "cell_type": "code",
      "execution_count": null,
      "metadata": {
        "id": "tP1Jqx-vyRwr"
      },
      "outputs": [],
      "source": [
        "temp_g = nx.DiGraph()\n",
        "start = list(nodesdf['in_date'])[0] -pd.Timedelta(seconds=5)\n",
        "def update(frame):\n",
        "    now_in = start +pd.Timedelta(minutes=(frame+1)*120)\n",
        "    in_date = nodesdf['in_date']\n",
        "    now_minus_in = now_in - pd.Timedelta(minutes=120)\n",
        "    now_out = start +pd.Timedelta(minutes=(frame)*120)\n",
        "    now_minus_out = now_out -pd.Timedelta(minutes=120)\n",
        "    out_date = nodesdf['out_date']\n",
        "    in_ = (in_date>=now_minus_in) & (in_date<=now_in)\n",
        "    out_ = (out_date>now_minus_out) & (out_date<now_out)\n",
        "    in_df = nodesdf[in_]\n",
        "    out_df = nodesdf[out_]\n",
        "    in_nodes,in_node_weights = tuple(map(list,(Counter(in_df['node']).keys() ,Counter(in_df['node']).values())))\n",
        "    out_nodes,out_node_weights = tuple(map(list,(Counter(out_df['node']).keys() ,Counter(out_df['node']).values())))\n",
        "\n",
        "    in_edges, in_edge_weights =  tuple(map(list,(Counter(in_df['edge']).keys(),Counter(in_df['edge']).values())))\n",
        "    out_edges, out_edge_weights =  tuple(map(list,(Counter(out_df['edge']).keys(),Counter(out_df['edge']).values())))\n",
        "\n",
        "\n",
        "    in_edges = [(i.split(\" \")[0],i.split(\" \")[-1]) for i in in_edges]\n",
        "    out_edges = [(i.split(\" \")[0],i.split(\" \")[-1]) for i in out_edges]\n",
        "\n",
        "    g_nodes = list(temp_g.nodes)\n",
        "    g_edges = list(temp_g.edges)\n",
        "    nodes_add = []\n",
        "    nodes_weigths = []\n",
        "    for k,j in zip(in_nodes,in_node_weights):\n",
        "      if k not in g_nodes:\n",
        "        nodes_add.append(k)\n",
        "        nodes_weigths.append(j)\n",
        "    edges_add = []\n",
        "    edge_add_weights =[]\n",
        "    for k,j in zip(in_edges,in_edge_weights):\n",
        "      if k not in g_edges:\n",
        "        edges_add.append(k)\n",
        "        edge_add_weights.append(j)\n",
        "\n",
        "    edges_rem = []\n",
        "    edge_rem_weights =[]\n",
        "    for k,j in zip(out_edges,out_edge_weights):\n",
        "      if k in g_edges:\n",
        "        edges_rem.append(k)\n",
        "        edge_rem_weights.append(j)\n",
        "    temp_g.add_nodes_from(nodes_add)\n",
        "    temp_g.add_edges_from(edges_add)\n",
        "    temp_g.remove_edges_from(edges_rem)\n",
        "    temp_g.remove_nodes_from(list(nx.isolates(temp_g)))\n",
        "    temp_g.remove_edges_from(nx.selfloop_edges(temp_g))\n",
        "      # print(G.nodes)\n",
        "    # print(np.array(n_weights))\n",
        "    ax.clear()\n",
        "    nx.draw_networkx_nodes(temp_g, pos,nodelist=nodes_add,node_size=np.array(nodes_weigths)*1500,ax=ax)\n",
        "    nx.draw_networkx_labels(temp_g, pos,font_size=28,ax= ax)\n",
        "    nx.draw_networkx_edges(temp_g, pos,edgelist=edges_add,width=np.array(edge_add_weights)*5,ax=ax, arrowsize=30)\n",
        "    props = dict(boxstyle='round', facecolor='wheat', alpha=0.5)\n",
        "    textstr = \"Date : \" + str(now_in.date()) + \" \\n  Time: \"+str(now_in.time())\n",
        "    ax.text(0, 1, textstr, transform=ax.transAxes, fontsize=28,verticalalignment='top', bbox=props,color=\"r\")\n",
        "\n",
        "fig, ax = plt.subplots(figsize=(30,20))\n",
        "ani = FuncAnimation(fig, update, frames=47635,interval=1000)\n",
        "writervideo = animation.FFMpegWriter(fps=5)\n",
        "ani.save('/content/drive/MyDrive/final_1.mp4', writer=writervideo)\n",
        "plt.close()\n"
      ]
    },
    {
      "cell_type": "code",
      "execution_count": null,
      "metadata": {
        "id": "SLLq5dAwsKHK"
      },
      "outputs": [],
      "source": []
    }
  ],
  "metadata": {
    "colab": {
      "provenance": []
    },
    "kernelspec": {
      "display_name": "Python 3",
      "name": "python3"
    },
    "language_info": {
      "name": "python",
      "version": "3.11.8"
    }
  },
  "nbformat": 4,
  "nbformat_minor": 0
}
