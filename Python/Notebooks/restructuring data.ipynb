{
 "cells": [
  {
   "cell_type": "code",
   "execution_count": 1,
   "metadata": {},
   "outputs": [],
   "source": [
    "import numpy as np \n",
    "import pandas as pd\n",
    "from tqdm import tqdm\n",
    "import os\n",
    "import json"
   ]
  },
  {
   "cell_type": "code",
   "execution_count": 3,
   "metadata": {},
   "outputs": [],
   "source": [
    "path = \"C:/Users/18565/Desktop/Classes/VA/Project/Code/VA-Project\""
   ]
  },
  {
   "cell_type": "code",
   "execution_count": 4,
   "metadata": {},
   "outputs": [],
   "source": [
    "df = pd.read_csv(os.path.join(path,\"data\\Lekagul Sensor Data.csv\"))"
   ]
  },
  {
   "cell_type": "code",
   "execution_count": 6,
   "metadata": {},
   "outputs": [],
   "source": [
    "df['Timestamp'] = pd.to_datetime(df['Timestamp'])"
   ]
  },
  {
   "cell_type": "code",
   "execution_count": 9,
   "metadata": {},
   "outputs": [],
   "source": [
    "df.set_index('Timestamp',inplace=True)"
   ]
  },
  {
   "cell_type": "code",
   "execution_count": 14,
   "metadata": {},
   "outputs": [],
   "source": [
    "from datetime import datetime"
   ]
  },
  {
   "cell_type": "code",
   "execution_count": 22,
   "metadata": {},
   "outputs": [],
   "source": [
    "c = car_df.index[1]-car_df.index[0]"
   ]
  },
  {
   "cell_type": "code",
   "execution_count": 25,
   "metadata": {},
   "outputs": [
    {
     "data": {
      "text/plain": [
       "1244.0"
      ]
     },
     "execution_count": 25,
     "metadata": {},
     "output_type": "execute_result"
    }
   ],
   "source": [
    "c.total_seconds()"
   ]
  },
  {
   "cell_type": "code",
   "execution_count": 32,
   "metadata": {},
   "outputs": [
    {
     "data": {
      "text/plain": [
       "24"
      ]
     },
     "execution_count": 32,
     "metadata": {},
     "output_type": "execute_result"
    }
   ],
   "source": [
    "cols.index(car_df.iloc[ind]['gate-name'])"
   ]
  },
  {
   "cell_type": "code",
   "execution_count": 33,
   "metadata": {},
   "outputs": [
    {
     "name": "stdout",
     "output_type": "stream",
     "text": [
      "car-id       20150001010009-284\n",
      "car-type                      3\n",
      "gate-name         general-gate1\n",
      "Name: 2015-07-01 13:20:53, dtype: object\n"
     ]
    }
   ],
   "source": [
    "car_ids = np.unique(df['car-id'])\n",
    "cols = list(np.unique(df['gate-name']))\n",
    "values = [-1]*len(cols)\n",
    "df1 = pd.DataFrame(\"enter_time_stamp\")\n",
    "df2 = pd.DataFrame()\n",
    "df3 = pd.DataFrame()\n",
    "for car_id in car_ids:\n",
    "    car_df = df[df['car-id']==car_id]\n",
    "    entry_time = str(car_df.index[0])\n",
    "    exit_time = str(car_df.index[-1])\n",
    "    total_time = car_df.index[1]-car_df.index[0]\n",
    "    total_time = total_time.total_seconds()/60\n",
    "    values[cols.index(car_df.iloc[0]['gate-name'])] = 0\n",
    "    for ind in range(1,len(car_df)):\n",
    "        print(car_df.iloc[ind])\n",
    "        dif = car_df.index[ind]-car_df.index[ind-1]\n",
    "        dif = dif.total_seconds()/60\n",
    "        values[cols.index(car_df.iloc[ind]['gate-name'])] = dif\n",
    "        break\n",
    "    break"
   ]
  },
  {
   "cell_type": "code",
   "execution_count": 29,
   "metadata": {},
   "outputs": [
    {
     "data": {
      "text/plain": [
       "['camping0',\n",
       " 'camping1',\n",
       " 'camping2',\n",
       " 'camping3',\n",
       " 'camping4',\n",
       " 'camping5',\n",
       " 'camping6',\n",
       " 'camping7',\n",
       " 'camping8',\n",
       " 'entrance0',\n",
       " 'entrance1',\n",
       " 'entrance2',\n",
       " 'entrance3',\n",
       " 'entrance4',\n",
       " 'gate0',\n",
       " 'gate1',\n",
       " 'gate2',\n",
       " 'gate3',\n",
       " 'gate4',\n",
       " 'gate5',\n",
       " 'gate6',\n",
       " 'gate7',\n",
       " 'gate8',\n",
       " 'general-gate0',\n",
       " 'general-gate1',\n",
       " 'general-gate2',\n",
       " 'general-gate3',\n",
       " 'general-gate4',\n",
       " 'general-gate5',\n",
       " 'general-gate6',\n",
       " 'general-gate7',\n",
       " 'ranger-base',\n",
       " 'ranger-stop0',\n",
       " 'ranger-stop1',\n",
       " 'ranger-stop2',\n",
       " 'ranger-stop3',\n",
       " 'ranger-stop4',\n",
       " 'ranger-stop5',\n",
       " 'ranger-stop6',\n",
       " 'ranger-stop7']"
      ]
     },
     "execution_count": 29,
     "metadata": {},
     "output_type": "execute_result"
    }
   ],
   "source": [
    "cols"
   ]
  },
  {
   "cell_type": "code",
   "execution_count": null,
   "metadata": {},
   "outputs": [],
   "source": []
  }
 ],
 "metadata": {
  "kernelspec": {
   "display_name": "Python 3",
   "language": "python",
   "name": "python3"
  },
  "language_info": {
   "codemirror_mode": {
    "name": "ipython",
    "version": 3
   },
   "file_extension": ".py",
   "mimetype": "text/x-python",
   "name": "python",
   "nbconvert_exporter": "python",
   "pygments_lexer": "ipython3",
   "version": "3.11.7"
  }
 },
 "nbformat": 4,
 "nbformat_minor": 2
}
