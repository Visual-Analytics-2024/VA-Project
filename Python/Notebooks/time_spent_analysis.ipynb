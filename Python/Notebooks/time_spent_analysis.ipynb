{
 "cells": [
  {
   "cell_type": "code",
   "execution_count": 1,
   "metadata": {},
   "outputs": [],
   "source": [
    "import numpy as np \n",
    "import pandas as pd\n",
    "from tqdm import tqdm\n",
    "import os"
   ]
  },
  {
   "cell_type": "code",
   "execution_count": 2,
   "metadata": {},
   "outputs": [],
   "source": [
    "path = \"C:/Users/18565/Desktop/Classes/VA/Project/Code/VA-Project\""
   ]
  },
  {
   "cell_type": "code",
   "execution_count": 3,
   "metadata": {},
   "outputs": [
    {
     "name": "stderr",
     "output_type": "stream",
     "text": [
      "C:\\Users\\18565\\AppData\\Local\\Temp\\ipykernel_5008\\678320754.py:1: DtypeWarning: Columns (2) have mixed types. Specify dtype option on import or set low_memory=False.\n",
      "  selfloop_df = pd.read_csv(os.path.join(path,\"data/selploop.csv\"),index_col=0)\n"
     ]
    }
   ],
   "source": [
    "selfloop_df = pd.read_csv(os.path.join(path,\"data/selploop.csv\"),index_col=0)\n",
    "selfloop_df['car_type'] = selfloop_df['car_type'].astype(\"str\")"
   ]
  },
  {
   "cell_type": "code",
   "execution_count": 4,
   "metadata": {},
   "outputs": [],
   "source": [
    "selfloop_df = selfloop_df[(selfloop_df['car_type']==\"1\") | (selfloop_df['car_type']==\"2\") | (selfloop_df['car_type']==\"3\") ]"
   ]
  },
  {
   "cell_type": "code",
   "execution_count": 16,
   "metadata": {},
   "outputs": [],
   "source": [
    "cartypes = ['4', '5', '6']\n",
    "data = []\n",
    "car_type = []\n",
    "for cartype in cartypes:\n",
    "    time_df = selfloop_df[selfloop_df['car_type']==cartype]\n",
    "    data.append(time_df['total_in_time'])\n",
    "    car_type.append(\"Car Type :\"+cartype)"
   ]
  },
  {
   "cell_type": "code",
   "execution_count": 14,
   "metadata": {},
   "outputs": [],
   "source": [
    "import matplotlib.pyplot as plt\n",
    "from matplotlib.pyplot import cm"
   ]
  },
  {
   "cell_type": "code",
   "execution_count": 17,
   "metadata": {},
   "outputs": [
    {
     "data": {
      "image/png": "[encoded data removed]",
      "text/plain": [
       "<Figure size 700x700 with 1 Axes>"
      ]
     },
     "metadata": {},
     "output_type": "display_data"
    }
   ],
   "source": [
    "fig,ax = plt.subplots(1,1,figsize=(7,7))\n",
    "\n",
    "\n",
    "\n",
    "outlier_ = []\n",
    "data_medians = []\n",
    "\n",
    "bp = ax.boxplot(data,notch=True,vert=True, whis=1.5)\n",
    "ax.set_xticklabels(car_type, fontsize=8)\n",
    "medians =  [i.get_ydata()[1] for i in bp['medians']]\n",
    "data_medians +=medians\n",
    "colors = cm.rainbow(np.linspace(0, 1, 3))\n",
    "pos = np.arange(3) + 1\n",
    "for tick, label in zip(range(3), ax.get_xticklabels()):\n",
    "    ax.text(pos[tick], .95, medians[tick],\n",
    "            transform=ax.get_xaxis_transform(),\n",
    "            horizontalalignment='center', size='x-small',color=colors[tick])\n",
    "for i in range(0,len(bp['whiskers']),2):\n",
    "    outlier_.append((bp['whiskers'][i].get_ydata()[1],bp['whiskers'][i+1].get_ydata()[1]))\n",
    "\n",
    "plt.show() "
   ]
  },
  {
   "cell_type": "code",
   "execution_count": 18,
   "metadata": {},
   "outputs": [],
   "source": [
    "outlier_points = []\n",
    "for X,cartype,outlier in zip(data,cartypes,outlier_):\n",
    "    outlier_points.append((cartype,X[(X<outlier[0])| (X>outlier[1])]))"
   ]
  },
  {
   "cell_type": "code",
   "execution_count": 47,
   "metadata": {},
   "outputs": [],
   "source": [
    "def outlier_points_to_df(points,selfloop_df):\n",
    "    df = pd.DataFrame()\n",
    "    for _,data in points:\n",
    "        df = pd.concat((df,selfloop_df.loc[data.index]))\n",
    "    return df"
   ]
  },
  {
   "cell_type": "code",
   "execution_count": 48,
   "metadata": {},
   "outputs": [],
   "source": [
    "outlier_df =  outlier_points_to_df(outlier_points,selfloop_df)"
   ]
  },
  {
   "cell_type": "code",
   "execution_count": 58,
   "metadata": {},
   "outputs": [],
   "source": [
    "cols = outlier_df.columns[5:-3]"
   ]
  },
  {
   "cell_type": "code",
   "execution_count": 104,
   "metadata": {},
   "outputs": [
    {
     "data": {
      "text/html": [
       "<div>\n",
       "<style scoped>\n",
       "    .dataframe tbody tr th:only-of-type {\n",
       "        vertical-align: middle;\n",
       "    }\n",
       "\n",
       "    .dataframe tbody tr th {\n",
       "        vertical-align: top;\n",
       "    }\n",
       "\n",
       "    .dataframe thead th {\n",
       "        text-align: right;\n",
       "    }\n",
       "</style>\n",
       "<table border=\"1\" class=\"dataframe\">\n",
       "  <thead>\n",
       "    <tr style=\"text-align: right;\">\n",
       "      <th></th>\n",
       "      <th>car-id</th>\n",
       "      <th>car_type</th>\n",
       "      <th>enter_date</th>\n",
       "      <th>exit_date</th>\n",
       "      <th>total_in_time</th>\n",
       "      <th>camping0</th>\n",
       "      <th>camping1</th>\n",
       "      <th>camping2</th>\n",
       "      <th>camping3</th>\n",
       "      <th>camping4</th>\n",
       "      <th>...</th>\n",
       "      <th>ranger-stop1</th>\n",
       "      <th>ranger-stop2</th>\n",
       "      <th>ranger-stop3</th>\n",
       "      <th>ranger-stop4</th>\n",
       "      <th>ranger-stop5</th>\n",
       "      <th>ranger-stop6</th>\n",
       "      <th>ranger-stop7</th>\n",
       "      <th>selfloop</th>\n",
       "      <th>entry_gate</th>\n",
       "      <th>exit_gate</th>\n",
       "    </tr>\n",
       "  </thead>\n",
       "  <tbody>\n",
       "    <tr>\n",
       "      <th>15272</th>\n",
       "      <td>20150204100226-134</td>\n",
       "      <td>4</td>\n",
       "      <td>2015-07-04 22:02:26</td>\n",
       "      <td>2015-07-05 08:41:17</td>\n",
       "      <td>638.85</td>\n",
       "      <td>0.0</td>\n",
       "      <td>0.0</td>\n",
       "      <td>0.0</td>\n",
       "      <td>0.0</td>\n",
       "      <td>0.0</td>\n",
       "      <td>...</td>\n",
       "      <td>0.0</td>\n",
       "      <td>0.0</td>\n",
       "      <td>0.0</td>\n",
       "      <td>0.0</td>\n",
       "      <td>0.0</td>\n",
       "      <td>0.0</td>\n",
       "      <td>0.0</td>\n",
       "      <td>2.0</td>\n",
       "      <td>entrance1</td>\n",
       "      <td>entrance4</td>\n",
       "    </tr>\n",
       "  </tbody>\n",
       "</table>\n",
       "<p>1 rows × 48 columns</p>\n",
       "</div>"
      ],
      "text/plain": [
       "                   car-id car_type           enter_date            exit_date  \\\n",
       "15272  20150204100226-134        4  2015-07-04 22:02:26  2015-07-05 08:41:17   \n",
       "\n",
       "       total_in_time  camping0  camping1  camping2  camping3  camping4  ...  \\\n",
       "15272         638.85       0.0       0.0       0.0       0.0       0.0  ...   \n",
       "\n",
       "       ranger-stop1  ranger-stop2  ranger-stop3  ranger-stop4  ranger-stop5  \\\n",
       "15272           0.0           0.0           0.0           0.0           0.0   \n",
       "\n",
       "       ranger-stop6  ranger-stop7  selfloop  entry_gate  exit_gate  \n",
       "15272           0.0           0.0       2.0   entrance1  entrance4  \n",
       "\n",
       "[1 rows x 48 columns]"
      ]
     },
     "execution_count": 104,
     "metadata": {},
     "output_type": "execute_result"
    }
   ],
   "source": [
    "df[df['car-id']==]"
   ]
  },
  {
   "cell_type": "code",
   "execution_count": 102,
   "metadata": {},
   "outputs": [
    {
     "data": {
      "text/html": [
       "<div>\n",
       "<style scoped>\n",
       "    .dataframe tbody tr th:only-of-type {\n",
       "        vertical-align: middle;\n",
       "    }\n",
       "\n",
       "    .dataframe tbody tr th {\n",
       "        vertical-align: top;\n",
       "    }\n",
       "\n",
       "    .dataframe thead th {\n",
       "        text-align: right;\n",
       "    }\n",
       "</style>\n",
       "<table border=\"1\" class=\"dataframe\">\n",
       "  <thead>\n",
       "    <tr style=\"text-align: right;\">\n",
       "      <th></th>\n",
       "      <th>car-id</th>\n",
       "      <th>car_type</th>\n",
       "      <th>enter_date</th>\n",
       "      <th>exit_date</th>\n",
       "      <th>total_in_time</th>\n",
       "      <th>camping0</th>\n",
       "      <th>camping1</th>\n",
       "      <th>camping2</th>\n",
       "      <th>camping3</th>\n",
       "      <th>camping4</th>\n",
       "      <th>...</th>\n",
       "      <th>ranger-stop1</th>\n",
       "      <th>ranger-stop2</th>\n",
       "      <th>ranger-stop3</th>\n",
       "      <th>ranger-stop4</th>\n",
       "      <th>ranger-stop5</th>\n",
       "      <th>ranger-stop6</th>\n",
       "      <th>ranger-stop7</th>\n",
       "      <th>selfloop</th>\n",
       "      <th>entry_gate</th>\n",
       "      <th>exit_gate</th>\n",
       "    </tr>\n",
       "  </thead>\n",
       "  <tbody>\n",
       "    <tr>\n",
       "      <th>15272</th>\n",
       "      <td>20150204100226-134</td>\n",
       "      <td>4</td>\n",
       "      <td>2015-07-04 22:02:26</td>\n",
       "      <td>2015-07-05 08:41:17</td>\n",
       "      <td>638.85</td>\n",
       "      <td>0.0</td>\n",
       "      <td>0.0</td>\n",
       "      <td>0.0</td>\n",
       "      <td>0.0</td>\n",
       "      <td>0.0</td>\n",
       "      <td>...</td>\n",
       "      <td>0.0</td>\n",
       "      <td>0.0</td>\n",
       "      <td>0.0</td>\n",
       "      <td>0.0</td>\n",
       "      <td>0.0</td>\n",
       "      <td>0.0</td>\n",
       "      <td>0.0</td>\n",
       "      <td>2.0</td>\n",
       "      <td>entrance1</td>\n",
       "      <td>entrance4</td>\n",
       "    </tr>\n",
       "    <tr>\n",
       "      <th>15299</th>\n",
       "      <td>20150322080300-861</td>\n",
       "      <td>4</td>\n",
       "      <td>2015-10-22 20:03:00</td>\n",
       "      <td>2015-10-23 07:27:00</td>\n",
       "      <td>684.00</td>\n",
       "      <td>0.0</td>\n",
       "      <td>0.0</td>\n",
       "      <td>0.0</td>\n",
       "      <td>0.0</td>\n",
       "      <td>0.0</td>\n",
       "      <td>...</td>\n",
       "      <td>0.0</td>\n",
       "      <td>0.0</td>\n",
       "      <td>0.0</td>\n",
       "      <td>0.0</td>\n",
       "      <td>0.0</td>\n",
       "      <td>0.0</td>\n",
       "      <td>0.0</td>\n",
       "      <td>2.0</td>\n",
       "      <td>entrance0</td>\n",
       "      <td>entrance4</td>\n",
       "    </tr>\n",
       "    <tr>\n",
       "      <th>15738</th>\n",
       "      <td>20153427103455-30</td>\n",
       "      <td>4</td>\n",
       "      <td>2015-06-27 22:34:55</td>\n",
       "      <td>2015-06-28 09:28:29</td>\n",
       "      <td>653.57</td>\n",
       "      <td>0.0</td>\n",
       "      <td>0.0</td>\n",
       "      <td>0.0</td>\n",
       "      <td>0.0</td>\n",
       "      <td>0.0</td>\n",
       "      <td>...</td>\n",
       "      <td>0.0</td>\n",
       "      <td>0.0</td>\n",
       "      <td>0.0</td>\n",
       "      <td>0.0</td>\n",
       "      <td>0.0</td>\n",
       "      <td>0.0</td>\n",
       "      <td>0.0</td>\n",
       "      <td>2.0</td>\n",
       "      <td>entrance2</td>\n",
       "      <td>entrance1</td>\n",
       "    </tr>\n",
       "    <tr>\n",
       "      <th>15914</th>\n",
       "      <td>20154501084537-684</td>\n",
       "      <td>4</td>\n",
       "      <td>2015-09-01 20:45:37</td>\n",
       "      <td>2015-09-02 08:40:47</td>\n",
       "      <td>715.17</td>\n",
       "      <td>0.0</td>\n",
       "      <td>0.0</td>\n",
       "      <td>0.0</td>\n",
       "      <td>0.0</td>\n",
       "      <td>0.0</td>\n",
       "      <td>...</td>\n",
       "      <td>0.0</td>\n",
       "      <td>0.0</td>\n",
       "      <td>0.0</td>\n",
       "      <td>0.0</td>\n",
       "      <td>0.0</td>\n",
       "      <td>0.0</td>\n",
       "      <td>0.0</td>\n",
       "      <td>2.0</td>\n",
       "      <td>entrance3</td>\n",
       "      <td>entrance0</td>\n",
       "    </tr>\n",
       "    <tr>\n",
       "      <th>16150</th>\n",
       "      <td>20160623090611-424</td>\n",
       "      <td>4</td>\n",
       "      <td>2016-03-23 21:06:11</td>\n",
       "      <td>2016-03-24 09:05:31</td>\n",
       "      <td>719.33</td>\n",
       "      <td>0.0</td>\n",
       "      <td>0.0</td>\n",
       "      <td>0.0</td>\n",
       "      <td>0.0</td>\n",
       "      <td>0.0</td>\n",
       "      <td>...</td>\n",
       "      <td>0.0</td>\n",
       "      <td>0.0</td>\n",
       "      <td>0.0</td>\n",
       "      <td>0.0</td>\n",
       "      <td>0.0</td>\n",
       "      <td>0.0</td>\n",
       "      <td>0.0</td>\n",
       "      <td>2.0</td>\n",
       "      <td>entrance1</td>\n",
       "      <td>entrance2</td>\n",
       "    </tr>\n",
       "    <tr>\n",
       "      <th>16172</th>\n",
       "      <td>20161008061012-639</td>\n",
       "      <td>4</td>\n",
       "      <td>2016-05-08 18:10:12</td>\n",
       "      <td>2016-05-09 07:36:46</td>\n",
       "      <td>806.57</td>\n",
       "      <td>0.0</td>\n",
       "      <td>0.0</td>\n",
       "      <td>0.0</td>\n",
       "      <td>0.0</td>\n",
       "      <td>0.0</td>\n",
       "      <td>...</td>\n",
       "      <td>0.0</td>\n",
       "      <td>0.0</td>\n",
       "      <td>0.0</td>\n",
       "      <td>0.0</td>\n",
       "      <td>0.0</td>\n",
       "      <td>0.0</td>\n",
       "      <td>0.0</td>\n",
       "      <td>2.0</td>\n",
       "      <td>entrance3</td>\n",
       "      <td>entrance4</td>\n",
       "    </tr>\n",
       "  </tbody>\n",
       "</table>\n",
       "<p>6 rows × 48 columns</p>\n",
       "</div>"
      ],
      "text/plain": [
       "                   car-id car_type           enter_date            exit_date  \\\n",
       "15272  20150204100226-134        4  2015-07-04 22:02:26  2015-07-05 08:41:17   \n",
       "15299  20150322080300-861        4  2015-10-22 20:03:00  2015-10-23 07:27:00   \n",
       "15738   20153427103455-30        4  2015-06-27 22:34:55  2015-06-28 09:28:29   \n",
       "15914  20154501084537-684        4  2015-09-01 20:45:37  2015-09-02 08:40:47   \n",
       "16150  20160623090611-424        4  2016-03-23 21:06:11  2016-03-24 09:05:31   \n",
       "16172  20161008061012-639        4  2016-05-08 18:10:12  2016-05-09 07:36:46   \n",
       "\n",
       "       total_in_time  camping0  camping1  camping2  camping3  camping4  ...  \\\n",
       "15272         638.85       0.0       0.0       0.0       0.0       0.0  ...   \n",
       "15299         684.00       0.0       0.0       0.0       0.0       0.0  ...   \n",
       "15738         653.57       0.0       0.0       0.0       0.0       0.0  ...   \n",
       "15914         715.17       0.0       0.0       0.0       0.0       0.0  ...   \n",
       "16150         719.33       0.0       0.0       0.0       0.0       0.0  ...   \n",
       "16172         806.57       0.0       0.0       0.0       0.0       0.0  ...   \n",
       "\n",
       "       ranger-stop1  ranger-stop2  ranger-stop3  ranger-stop4  ranger-stop5  \\\n",
       "15272           0.0           0.0           0.0           0.0           0.0   \n",
       "15299           0.0           0.0           0.0           0.0           0.0   \n",
       "15738           0.0           0.0           0.0           0.0           0.0   \n",
       "15914           0.0           0.0           0.0           0.0           0.0   \n",
       "16150           0.0           0.0           0.0           0.0           0.0   \n",
       "16172           0.0           0.0           0.0           0.0           0.0   \n",
       "\n",
       "       ranger-stop6  ranger-stop7  selfloop  entry_gate  exit_gate  \n",
       "15272           0.0           0.0       2.0   entrance1  entrance4  \n",
       "15299           0.0           0.0       2.0   entrance0  entrance4  \n",
       "15738           0.0           0.0       2.0   entrance2  entrance1  \n",
       "15914           0.0           0.0       2.0   entrance3  entrance0  \n",
       "16150           0.0           0.0       2.0   entrance1  entrance2  \n",
       "16172           0.0           0.0       2.0   entrance3  entrance4  \n",
       "\n",
       "[6 rows x 48 columns]"
      ]
     },
     "execution_count": 102,
     "metadata": {},
     "output_type": "execute_result"
    }
   ],
   "source": [
    "outlier_df"
   ]
  },
  {
   "cell_type": "code",
   "execution_count": 89,
   "metadata": {},
   "outputs": [
    {
     "data": {
      "text/plain": [
       "[(30, 185, 196, 1),\n",
       " (30, 185, 196, 1),\n",
       " (30, 185, 196, 1),\n",
       " (30, 185, 196, 1),\n",
       " (30, 185, 196, 1),\n",
       " (30, 185, 196, 1)]"
      ]
     },
     "execution_count": 89,
     "metadata": {},
     "output_type": "execute_result"
    }
   ],
   "source": [
    "[colors[ind]]*len(outlier_df)"
   ]
  },
  {
   "cell_type": "code",
   "execution_count": 94,
   "metadata": {},
   "outputs": [
    {
     "data": {
      "text/plain": [
       "7"
      ]
     },
     "execution_count": 94,
     "metadata": {},
     "output_type": "execute_result"
    }
   ],
   "source": [
    "ind"
   ]
  },
  {
   "cell_type": "code",
   "execution_count": 99,
   "metadata": {},
   "outputs": [
    {
     "data": {
      "text/plain": [
       "8"
      ]
     },
     "execution_count": 99,
     "metadata": {},
     "output_type": "execute_result"
    }
   ],
   "source": [
    "ind%"
   ]
  },
  {
   "cell_type": "code",
   "execution_count": 101,
   "metadata": {},
   "outputs": [
    {
     "data": {
      "image/png": "[encoded data removed]",
      "text/plain": [
       "<Figure size 1200x600 with 1 Axes>"
      ]
     },
     "metadata": {},
     "output_type": "display_data"
    }
   ],
   "source": [
    "fig,ax = plt.subplots(figsize=(12,6))\n",
    "\n",
    "index = np.arange(len(outlier_df))\n",
    "\n",
    "\n",
    "bar_width = 0.35\n",
    "colors = ['b', 'g', 'r', 'c', 'm', 'y', 'k']\n",
    "# Plotting the bars\n",
    "bars = ax.bar(index, outlier_df['total_in_time'], bar_width,color='k')\n",
    "for bar in bars:\n",
    "    height = bar.get_height()\n",
    "    if height > 0:\n",
    "        ax.annotate(f'Total ime \\n {height}',\n",
    "                xy=(bar.get_x() + bar.get_width() / 2, height),\n",
    "                xytext=(0, 3),  # 3 points vertical offset\n",
    "                textcoords=\"offset points\",\n",
    "                ha='center',\n",
    "                fontsize=7)\n",
    "\n",
    "ind = 1\n",
    "for col in outlier_df.columns[5:-3]:\n",
    "    bars = ax.bar(index + bar_width,outlier_df[col],bar_width,color= colors[len(colors)%ind])\n",
    "    for bar in bars:\n",
    "        height = bar.get_height()\n",
    "        if height > 0:\n",
    "            ind+=1\n",
    "            ax.annotate(f'Time \\n {height} \\n {col}',\n",
    "                    xy=(bar.get_x() + bar.get_width() / 2, height),\n",
    "                    xytext=(0, 3),  # 3 points vertical offset\n",
    "                    textcoords=\"offset points\",\n",
    "                    ha='center',\n",
    "                    fontsize=7)\n",
    "  \n",
    "plt.xticks(index + bar_width / 2,outlier_df['car-id']) \n",
    "ax.tick_params(axis='x', rotation=90)\n",
    "ax.set_xlabel('Car Id')\n",
    "ax.set_ylabel('Time (Minutes)')\n",
    "plt.show()"
   ]
  },
  {
   "cell_type": "code",
   "execution_count": 74,
   "metadata": {},
   "outputs": [
    {
     "data": {
      "image/png": "[encoded data removed]",
      "text/plain": [
       "<Figure size 640x480 with 1 Axes>"
      ]
     },
     "metadata": {},
     "output_type": "display_data"
    }
   ],
   "source": [
    "import matplotlib.pyplot as plt\n",
    "import numpy as np\n",
    "\n",
    "# Data\n",
    "categories = ['A', 'B', 'C', 'D']\n",
    "values1 = [5, 7, 3, 4]\n",
    "values2 = [4, 6, 2, 5]\n",
    "\n",
    "# Define the width of the bars\n",
    "bar_width = 0.35\n",
    "\n",
    "# Generate index for bars\n",
    "index = np.arange(len(categories))\n",
    "\n",
    "# Plotting the bars\n",
    "plt.bar(index, values1, bar_width, label='Set 1')\n",
    "plt.bar(index + bar_width, values2, bar_width, label='Set 2')\n",
    "\n",
    "# Adding labels, title, and legend\n",
    "plt.xlabel('Categories')\n",
    "plt.ylabel('Values')\n",
    "plt.title('Multiple Bars with Categorical X-Values')\n",
    "  # Set x-ticks positions and labels\n",
    "plt.legend()\n",
    "\n",
    "# Show plot\n",
    "plt.show()\n"
   ]
  },
  {
   "cell_type": "code",
   "execution_count": 29,
   "metadata": {},
   "outputs": [
    {
     "data": {
      "text/html": [
       "<div>\n",
       "<style scoped>\n",
       "    .dataframe tbody tr th:only-of-type {\n",
       "        vertical-align: middle;\n",
       "    }\n",
       "\n",
       "    .dataframe tbody tr th {\n",
       "        vertical-align: top;\n",
       "    }\n",
       "\n",
       "    .dataframe thead th {\n",
       "        text-align: right;\n",
       "    }\n",
       "</style>\n",
       "<table border=\"1\" class=\"dataframe\">\n",
       "  <thead>\n",
       "    <tr style=\"text-align: right;\">\n",
       "      <th></th>\n",
       "      <th>car-id</th>\n",
       "      <th>car_type</th>\n",
       "      <th>enter_date</th>\n",
       "      <th>exit_date</th>\n",
       "      <th>total_in_time</th>\n",
       "      <th>camping0</th>\n",
       "      <th>camping1</th>\n",
       "      <th>camping2</th>\n",
       "      <th>camping3</th>\n",
       "      <th>camping4</th>\n",
       "      <th>...</th>\n",
       "      <th>ranger-stop1</th>\n",
       "      <th>ranger-stop2</th>\n",
       "      <th>ranger-stop3</th>\n",
       "      <th>ranger-stop4</th>\n",
       "      <th>ranger-stop5</th>\n",
       "      <th>ranger-stop6</th>\n",
       "      <th>ranger-stop7</th>\n",
       "      <th>selfloop</th>\n",
       "      <th>entry_gate</th>\n",
       "      <th>exit_gate</th>\n",
       "    </tr>\n",
       "  </thead>\n",
       "  <tbody>\n",
       "    <tr>\n",
       "      <th>15299</th>\n",
       "      <td>20150322080300-861</td>\n",
       "      <td>4</td>\n",
       "      <td>2015-10-22 20:03:00</td>\n",
       "      <td>2015-10-23 07:27:00</td>\n",
       "      <td>684.0</td>\n",
       "      <td>0.0</td>\n",
       "      <td>0.0</td>\n",
       "      <td>0.0</td>\n",
       "      <td>0.0</td>\n",
       "      <td>0.0</td>\n",
       "      <td>...</td>\n",
       "      <td>0.0</td>\n",
       "      <td>0.0</td>\n",
       "      <td>0.0</td>\n",
       "      <td>0.0</td>\n",
       "      <td>0.0</td>\n",
       "      <td>0.0</td>\n",
       "      <td>0.0</td>\n",
       "      <td>2.0</td>\n",
       "      <td>entrance0</td>\n",
       "      <td>entrance4</td>\n",
       "    </tr>\n",
       "  </tbody>\n",
       "</table>\n",
       "<p>1 rows × 48 columns</p>\n",
       "</div>"
      ],
      "text/plain": [
       "                   car-id car_type           enter_date            exit_date  \\\n",
       "15299  20150322080300-861        4  2015-10-22 20:03:00  2015-10-23 07:27:00   \n",
       "\n",
       "      total_in_time camping0 camping1 camping2 camping3 camping4  ...  \\\n",
       "15299         684.0      0.0      0.0      0.0      0.0      0.0  ...   \n",
       "\n",
       "      ranger-stop1 ranger-stop2 ranger-stop3 ranger-stop4 ranger-stop5  \\\n",
       "15299          0.0          0.0          0.0          0.0          0.0   \n",
       "\n",
       "      ranger-stop6 ranger-stop7 selfloop entry_gate  exit_gate  \n",
       "15299          0.0          0.0      2.0  entrance0  entrance4  \n",
       "\n",
       "[1 rows x 48 columns]"
      ]
     },
     "execution_count": 29,
     "metadata": {},
     "output_type": "execute_result"
    }
   ],
   "source": [
    "pd.DataFrame(selfloop_df.loc[15299]).T"
   ]
  },
  {
   "cell_type": "code",
   "execution_count": 25,
   "metadata": {},
   "outputs": [
    {
     "data": {
      "text/plain": [
       "car-id            20150204100226-134\n",
       "car_type                           4\n",
       "enter_date       2015-07-04 22:02:26\n",
       "exit_date        2015-07-05 08:41:17\n",
       "total_in_time                 638.85\n",
       "camping0                         0.0\n",
       "camping1                         0.0\n",
       "camping2                         0.0\n",
       "camping3                         0.0\n",
       "camping4                         0.0\n",
       "camping5                         0.0\n",
       "camping6                         0.0\n",
       "camping7                         0.0\n",
       "camping8                         0.0\n",
       "entrance0                        0.0\n",
       "entrance1                     582.32\n",
       "entrance2                        0.0\n",
       "entrance3                        0.0\n",
       "entrance4                        0.0\n",
       "gate0                            0.0\n",
       "gate1                            0.0\n",
       "gate2                            0.0\n",
       "gate3                            0.0\n",
       "gate4                            0.0\n",
       "gate5                            0.0\n",
       "gate6                            0.0\n",
       "gate7                            0.0\n",
       "gate8                            0.0\n",
       "general-gate0                    0.0\n",
       "general-gate1                    0.0\n",
       "general-gate2                    0.0\n",
       "general-gate3                    0.0\n",
       "general-gate4                    0.0\n",
       "general-gate5                    0.0\n",
       "general-gate6                    0.0\n",
       "general-gate7                    0.0\n",
       "ranger-base                      0.0\n",
       "ranger-stop0                     0.0\n",
       "ranger-stop1                     0.0\n",
       "ranger-stop2                     0.0\n",
       "ranger-stop3                     0.0\n",
       "ranger-stop4                     0.0\n",
       "ranger-stop5                     0.0\n",
       "ranger-stop6                     0.0\n",
       "ranger-stop7                     0.0\n",
       "selfloop                         2.0\n",
       "entry_gate                 entrance1\n",
       "exit_gate                  entrance4\n",
       "Name: 15272, dtype: object"
      ]
     },
     "execution_count": 25,
     "metadata": {},
     "output_type": "execute_result"
    }
   ],
   "source": [
    "selfloop_df.loc[15272]"
   ]
  },
  {
   "cell_type": "code",
   "execution_count": 22,
   "metadata": {},
   "outputs": [
    {
     "data": {
      "text/plain": [
       "[('4',\n",
       "  15272    638.85\n",
       "  15299    684.00\n",
       "  15738    653.57\n",
       "  15914    715.17\n",
       "  16150    719.33\n",
       "  16172    806.57\n",
       "  Name: total_in_time, dtype: float64),\n",
       " ('5', Series([], Name: total_in_time, dtype: float64)),\n",
       " ('6', Series([], Name: total_in_time, dtype: float64))]"
      ]
     },
     "execution_count": 22,
     "metadata": {},
     "output_type": "execute_result"
    }
   ],
   "source": [
    "outlier_points"
   ]
  },
  {
   "cell_type": "code",
   "execution_count": 9,
   "metadata": {},
   "outputs": [],
   "source": [
    "old = pd.read_csv(os.path.join(path,\"data/Lekagul Sensor Data.csv\"))"
   ]
  },
  {
   "cell_type": "code",
   "execution_count": null,
   "metadata": {},
   "outputs": [],
   "source": []
  }
 ],
 "metadata": {
  "kernelspec": {
   "display_name": "Python 3",
   "language": "python",
   "name": "python3"
  },
  "language_info": {
   "codemirror_mode": {
    "name": "ipython",
    "version": 3
   },
   "file_extension": ".py",
   "mimetype": "text/x-python",
   "name": "python",
   "nbconvert_exporter": "python",
   "pygments_lexer": "ipython3",
   "version": "3.11.8"
  }
 },
 "nbformat": 4,
 "nbformat_minor": 2
}
