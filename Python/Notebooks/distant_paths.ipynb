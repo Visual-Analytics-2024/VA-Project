{
 "cells": [
  {
   "cell_type": "code",
   "execution_count": 1,
   "metadata": {},
   "outputs": [],
   "source": [
    "import pandas as pd\n",
    "import matplotlib.pyplot as plt\n",
    "import numpy as np \n",
    "import plotly.graph_objects as go\n",
    "import os\n",
    "import base64"
   ]
  },
  {
   "cell_type": "code",
   "execution_count": 7,
   "metadata": {},
   "outputs": [],
   "source": [
    "path = \"c:/Users/18565/Desktop/Classes/VA/Project/Code/VA-Project\""
   ]
  },
  {
   "cell_type": "code",
   "execution_count": 63,
   "metadata": {},
   "outputs": [],
   "source": [
    "distinct_paths = pd.read_csv(os.path.join(path,\"data\\distant_paths.csv\"),index_col=0)"
   ]
  },
  {
   "cell_type": "code",
   "execution_count": 64,
   "metadata": {},
   "outputs": [],
   "source": [
    "self_loop = []\n",
    "for i in distinct_paths['Path']:\n",
    "    if i.split(\" \")[0]==i.split(\" \")[-1]:\n",
    "        self_loop.append(1)\n",
    "    else:\n",
    "        self_loop.append(0)\n",
    "        "
   ]
  },
  {
   "cell_type": "code",
   "execution_count": 65,
   "metadata": {},
   "outputs": [],
   "source": [
    "distinct_paths['self_loop']=self_loop"
   ]
  },
  {
   "cell_type": "code",
   "execution_count": 66,
   "metadata": {},
   "outputs": [],
   "source": [
    "temp = distinct_paths[distinct_paths['self_loop']==0]"
   ]
  },
  {
   "cell_type": "code",
   "execution_count": 67,
   "metadata": {},
   "outputs": [
    {
     "data": {
      "text/plain": [
       "1               camping0 to camping2\n",
       "2               camping0 to camping3\n",
       "3               camping0 to camping4\n",
       "4              camping0 to entrance1\n",
       "5                  camping0 to gate1\n",
       "                   ...              \n",
       "200    ranger-stop4 to general-gate7\n",
       "202            ranger-stop5 to gate4\n",
       "204            ranger-stop6 to gate5\n",
       "205            ranger-stop6 to gate6\n",
       "207            ranger-stop7 to gate7\n",
       "Name: Path, Length: 182, dtype: object"
      ]
     },
     "execution_count": 67,
     "metadata": {},
     "output_type": "execute_result"
    }
   ],
   "source": [
    "temp['Path']"
   ]
  },
  {
   "cell_type": "code",
   "execution_count": 13,
   "metadata": {},
   "outputs": [],
   "source": [
    "coordinates = pd.read_csv(os.path.join(path,\"data/Mapping Park Area.csv\"))"
   ]
  },
  {
   "cell_type": "code",
   "execution_count": 14,
   "metadata": {},
   "outputs": [],
   "source": [
    "def adjust_map_coordinates(corordinates):\n",
    "    y_cordinate = []\n",
    "    midpoint = 982/2\n",
    "    x_length = 982\n",
    "    y_length = 982\n",
    "    for j in list(corordinates['y_coordinate']):\n",
    "        if j > midpoint:\n",
    "            y_cordinate.append(y_length-j)\n",
    "        elif j <midpoint:\n",
    "            y_cordinate.append(x_length-j)\n",
    "        else:\n",
    "            y_cordinate.append(j)\n",
    "    corordinates['y_coordinate'] = y_cordinate\n",
    "    pos = {}\n",
    "    for key,x,y in zip(list(corordinates['gate_name']),list(corordinates['x_coordinate']),list(corordinates['y_coordinate'])):\n",
    "        pos[key] = [x,y]\n",
    "    return corordinates, pos"
   ]
  },
  {
   "cell_type": "code",
   "execution_count": 15,
   "metadata": {},
   "outputs": [],
   "source": [
    "coordinates, pos= adjust_map_coordinates(coordinates)"
   ]
  },
  {
   "cell_type": "code",
   "execution_count": 68,
   "metadata": {},
   "outputs": [],
   "source": [
    "both = []\n",
    "for i in temp['Path']:\n",
    "    edge = i.split(\" \")\n",
    "    edge.reverse()\n",
    "    edge = \" \".join(edge)\n",
    "    if edge in list(temp['Path']):\n",
    "        both.append(1)\n",
    "    else:\n",
    "        both.append(0)"
   ]
  },
  {
   "cell_type": "code",
   "execution_count": 8,
   "metadata": {},
   "outputs": [],
   "source": [
    "df = pd.read_csv(os.path.join(path,\"data/Lekagul Sensor Data.csv\"))"
   ]
  },
  {
   "cell_type": "code",
   "execution_count": 9,
   "metadata": {},
   "outputs": [
    {
     "name": "stderr",
     "output_type": "stream",
     "text": [
      "C:\\Users\\18565\\AppData\\Local\\Temp\\ipykernel_17892\\3418713907.py:1: DtypeWarning: Columns (2) have mixed types. Specify dtype option on import or set low_memory=False.\n",
      "  self_loop_df = pd.read_csv(os.path.join(path,\"data/selploop.csv\"),index_col=0)\n"
     ]
    }
   ],
   "source": [
    "self_loop_df = pd.read_csv(os.path.join(path,\"data/selploop.csv\"),index_col=0)"
   ]
  },
  {
   "cell_type": "code",
   "execution_count": 10,
   "metadata": {},
   "outputs": [],
   "source": [
    "self_loop_df['car_type'] = self_loop_df['car_type'].astype(str)"
   ]
  },
  {
   "cell_type": "code",
   "execution_count": 11,
   "metadata": {},
   "outputs": [],
   "source": [
    "df['Timestamp'] = pd.to_datetime(df['Timestamp'])\n",
    "df.set_index(\"Timestamp\",inplace=True)"
   ]
  },
  {
   "cell_type": "code",
   "execution_count": 69,
   "metadata": {},
   "outputs": [],
   "source": [
    "unique_cars = list(self_loop_df['car-id'])"
   ]
  },
  {
   "cell_type": "code",
   "execution_count": 70,
   "metadata": {},
   "outputs": [],
   "source": [
    "entry_gate = []\n",
    "exit_gate = []\n",
    "for car_id in unique_cars:\n",
    "    car_df = df[df['car-id']==car_id]\n",
    "    entry_gate.append(car_df['gate-name'].loc[car_df.index[0]])\n",
    "    exit_gate.append(car_df['gate-name'].loc[car_df.index[-1]])"
   ]
  },
  {
   "cell_type": "code",
   "execution_count": 18,
   "metadata": {},
   "outputs": [],
   "source": [
    "self_loop_df['entry_gate'] = entry_gate\n",
    "self_loop_df['exit_gate'] = exit_gate"
   ]
  },
  {
   "cell_type": "code",
   "execution_count": 19,
   "metadata": {},
   "outputs": [],
   "source": [
    "self_loop_df.to_csv(os.path.join(path,\"data/selploop.csv\"))"
   ]
  },
  {
   "cell_type": "code",
   "execution_count": 20,
   "metadata": {},
   "outputs": [
    {
     "data": {
      "text/plain": [
       "array(['entrance0', 'entrance1', 'entrance2', 'entrance3', 'entrance4',\n",
       "       'ranger-base'], dtype=object)"
      ]
     },
     "execution_count": 20,
     "metadata": {},
     "output_type": "execute_result"
    }
   ],
   "source": [
    "np.unique(self_loop_df['entry_gate'])"
   ]
  },
  {
   "cell_type": "code",
   "execution_count": 21,
   "metadata": {},
   "outputs": [],
   "source": [
    "c=0\n",
    "for i in self_loop_df['exit_gate']:\n",
    "    if i in ['camping0', 'camping2', 'camping3', 'camping4', 'camping5','camping6', 'camping7', 'camping8']:\n",
    "        c+=1"
   ]
  },
  {
   "cell_type": "code",
   "execution_count": 71,
   "metadata": {},
   "outputs": [],
   "source": [
    "df['count']=np.ones(len(df))"
   ]
  },
  {
   "cell_type": "code",
   "execution_count": 40,
   "metadata": {},
   "outputs": [],
   "source": [
    "X =[]\n",
    "Y = []\n",
    "Size = []\n",
    "Gates = []\n",
    "for car_type in  ['1', '2', '2P', '3', '4', '5', '6']:\n",
    "    x =[]\n",
    "    y = []\n",
    "    size =[]\n",
    "    gates = []\n",
    "    car_type_df = df[df['car-type']==car_type].groupby(['gate-name'])['count'].sum()\n",
    "    for i in range(len(car_type_df)):\n",
    "        cords = pos[car_type_df.index[i]]\n",
    "        size.append(car_type_df.iloc[i])\n",
    "        x.append(cords[0])\n",
    "        y.append(cords[1])\n",
    "        gates.append(car_type_df.index[i])\n",
    "    Gates.append(gates)\n",
    "    X.append(x)\n",
    "    Y.append(y)\n",
    "    Size.append(size)"
   ]
  },
  {
   "cell_type": "code",
   "execution_count": 48,
   "metadata": {},
   "outputs": [],
   "source": [
    "texts = []\n",
    "for i in range(len(Size)):\n",
    "    text = [f\"Gate: {i}<br>Recorded : {j}\" for i,j in zip(Gates[i],Size[i])]\n",
    "    texts.append(text)"
   ]
  },
  {
   "cell_type": "code",
   "execution_count": 34,
   "metadata": {},
   "outputs": [
    {
     "name": "stdout",
     "output_type": "stream",
     "text": [
      "25 25\n",
      "24 24\n",
      "35 35\n",
      "24 24\n",
      "17 17\n",
      "12 12\n",
      "12 12\n"
     ]
    }
   ],
   "source": [
    "for car_type in  ['1', '2', '2P', '3', '4', '5', '6']:\n",
    "    car_type_df = df[df['car-type']==car_type].groupby(['gate-name'])['count'].sum()\n",
    "    print(len(car_type_df),len(np.unique(car_type_df.index)))"
   ]
  },
  {
   "cell_type": "code",
   "execution_count": 45,
   "metadata": {},
   "outputs": [],
   "source": [
    "X_all = coordinates['x_coordinate']\n",
    "y_all = coordinates['y_coordinate']\n",
    "gates_all = [f\"Gate: {i}\" for i in coordinates['gate_name']]"
   ]
  },
  {
   "cell_type": "code",
   "execution_count": 51,
   "metadata": {},
   "outputs": [],
   "source": [
    "with open(\"./invert_f.jpg\", \"rb\") as image_file:\n",
    "    encoded_image = base64.b64encode(image_file.read()).decode('utf-8')\n",
    "\n",
    "# Create figure\n",
    "fig = go.Figure()\n",
    "trace_all = go.Scatter(x=X_all, y=y_all, mode='markers',text = gates_all,marker=dict(size=6, color='rgba(0,0,255,1)'),showlegend=False,name=\"\")\n",
    "trace_car1_1 = go.Scatter(x=X[0], y=Y[0],text = texts[0] , mode='markers', marker=dict(size=(np.array(Size[0])/max(Size[0]))*100, color='rgba(255,0,0,0.5)'),showlegend=False,name=\"\")\n",
    "trace_car1_2 = go.Scatter(x=X[0], y=Y[0], mode='markers', marker=dict(size=6, color='rgba(255,0,0,1)'),showlegend=False,hoverinfo='none',name=\"\")\n",
    "\n",
    "trace_car2_1 = go.Scatter(x=X[1], y=Y[1],text = texts[1], mode='markers', marker=dict(size= (np.array(Size[1])/max(Size[1]))*100, color='rgba(255,0,0,0.5)'),showlegend=False,name=\"\")\n",
    "trace_car2_2 = go.Scatter(x=X[1], y=Y[1], mode='markers', marker=dict(size=6, color='rgba(255,0,0,1)'),showlegend=False,hoverinfo='none',name=\"\")\n",
    "\n",
    "trace_car2P_1 = go.Scatter(x=X[2], y=Y[2],text = texts[2], mode='markers', marker=dict(size=(np.array(Size[2])/max(Size[2]))*100, color='rgba(255,0,0,0.5)'),showlegend=False,name=\"\")\n",
    "trace_car2P_2 = go.Scatter(x=X[2], y=Y[2], mode='markers', marker=dict(size=6, color='rgba(255,0,0,1)'),showlegend=False,hoverinfo='none',name=\"\")\n",
    "\n",
    "trace_car3_1 = go.Scatter(x=X[3], y=Y[3],text = texts[3], mode='markers', marker=dict(size=(np.array(Size[3])/max(Size[3]))*100, color='rgba(255,0,0,0.5)'),showlegend=False,name=\"\")\n",
    "trace_car3_2 = go.Scatter(x=X[3], y=Y[3], mode='markers', marker=dict(size=6, color='rgba(255,0,0,1)'),showlegend=False,hoverinfo='none',name=\"\")\n",
    "\n",
    "trace_car4_1 = go.Scatter(x=X[4], y=Y[4],text = texts[4], mode='markers', marker=dict(size=(np.array(Size[4])/max(Size[4]))*100, color='rgba(255,0,0,0.5)'),showlegend=False,name=\"\")\n",
    "trace_car4_2 = go.Scatter(x=X[4], y=Y[4], mode='markers', marker=dict(size=6, color='rgba(255,0,0,1)'),showlegend=False,hoverinfo='none',name=\"\")\n",
    "\n",
    "trace_car5_1 = go.Scatter(x=X[5], y=Y[5],text = texts[5], mode='markers', marker=dict(size=(np.array(Size[5])/max(Size[5]))*100, color='rgba(255,0,0,0.5)'),showlegend=False,name=\"\")\n",
    "trace_car5_2 = go.Scatter(x=X[5], y=Y[5], mode='markers', marker=dict(size=6, color='rgba(255,0,0,1)'),showlegend=False,hoverinfo='none',name=\"\")\n",
    "\n",
    "trace_car6_1 = go.Scatter(x=X[6], y=Y[6],text = texts[6], mode='markers', marker=dict(size=(np.array(Size[6])/max(Size[6]))*100, color='rgba(255,0,0,0.5)'),showlegend=False,name=\"\")\n",
    "trace_car6_2 = go.Scatter(x=X[6], y=Y[6], mode='markers', marker=dict(size=6, color='rgba(255,0,0,1)'),showlegend=False,hoverinfo='none',name=\"\")\n",
    "\n",
    "fig = go.Figure(data=[trace_all, trace_car1_2, trace_car1_1,trace_car2_2,trace_car2_1,trace_car2P_2,trace_car2P_1,trace_car3_2,\n",
    "                      trace_car3_1,trace_car4_2,trace_car4_1,trace_car5_2,trace_car5_1,trace_car6_2,trace_car6_1])\n",
    "\n",
    "\n",
    "\n",
    "fig.add_layout_image(\n",
    "        dict(\n",
    "            source=f\"data:./invert_f.jpg;base64,{encoded_image}\",\n",
    "            xref=\"x\",\n",
    "            yref=\"y\",\n",
    "            x=0,\n",
    "            y=982,\n",
    "            sizex=982,\n",
    "            sizey=982,\n",
    "            opacity=1,\n",
    "             sizing=\"stretch\",\n",
    "            layer=\"below\")\n",
    ")\n",
    "\n",
    "fig.update_layout(\n",
    "    updatemenus=[\n",
    "        dict(\n",
    "            type=\"buttons\",\n",
    "            direction=\"right\",\n",
    "            active=0,\n",
    "            x=0.57,\n",
    "            y=1.2,\n",
    "            buttons=list([\n",
    "                dict(label=\"1\",\n",
    "                     method=\"update\",\n",
    "                     args=[{\"visible\": [True, True, True, False, False, False, False, False, False, False, False, False, False, False, False]},\n",
    "                           {\"title\": \"Car Type 1\",\n",
    "                            \"annotations\": []}]),\n",
    "                dict(label=\"2\",\n",
    "                     method=\"update\",\n",
    "                     args=[{\"visible\": [True, False, False, True, True, False, False, False, False, False, False, False, False, False, False]},\n",
    "                           {\"title\":\"Car Type 2\",\n",
    "                            \"annotations\": []}]),\n",
    "                dict(label=\"2P\",\n",
    "                     method=\"update\",\n",
    "                     args=[{\"visible\": [True, False, False, False, False, True, True, False, False, False, False, False, False, False, False]},\n",
    "                           {\"title\": \"Car Type 2P\",\n",
    "                            \"annotations\": []}]),\n",
    "                dict(label=\"3\",\n",
    "                     method=\"update\",\n",
    "                     args=[{\"visible\": [True, False, False, False, False, False, False, True, True, False, False, False, False, False, False]},\n",
    "                           {\"title\":\"3\",\n",
    "                            \"annotations\": []}]),\n",
    "                dict(label=\"4\",\n",
    "                     method=\"update\",\n",
    "                     args=[{\"visible\": [True, False, False, False, False, False, False, False, False, True, True, False, False, False, False]},\n",
    "                           {\"title\": \"Car Type 4\",\n",
    "                            \"annotations\": []}]),\n",
    "                dict(label=\"5\",\n",
    "                     method=\"update\",\n",
    "                     args=[{\"visible\": [True, False, False, False, False, False, False, False, False, False, False, True, True, False, False]},\n",
    "                           {\"title\":\"Car Type 5\",\n",
    "                            \"annotations\": []}]),\n",
    "                dict(label=\"6\",\n",
    "                     method=\"update\",\n",
    "                     args=[{\"visible\": [True, False, False, False, False, False, False, False, False, False, False, False, False, True, True]},\n",
    "                           {\"title\": \"Car Type 6\",\n",
    "                            \"annotations\": []}]),\n",
    "                \n",
    "            ]),\n",
    "        )\n",
    "    ])\n",
    "\n",
    "\n",
    "# Set templates\n",
    "fig.update_layout(height=982,\n",
    "   width=982,\n",
    ")\n",
    "fig.write_html(\"Entries.html\", include_plotlyjs=\"cdn\")\n",
    "    "
   ]
  },
  {
   "cell_type": "code",
   "execution_count": 72,
   "metadata": {},
   "outputs": [
    {
     "data": {
      "text/plain": [
       "'ranger-base'"
      ]
     },
     "execution_count": 72,
     "metadata": {},
     "output_type": "execute_result"
    }
   ],
   "source": [
    "car_df['gate-name'].loc[car_df.index[0]]"
   ]
  },
  {
   "cell_type": "code",
   "execution_count": 73,
   "metadata": {},
   "outputs": [
    {
     "name": "stderr",
     "output_type": "stream",
     "text": [
      "C:\\Users\\18565\\AppData\\Local\\Temp\\ipykernel_17892\\197952084.py:1: SettingWithCopyWarning:\n",
      "\n",
      "\n",
      "A value is trying to be set on a copy of a slice from a DataFrame.\n",
      "Try using .loc[row_indexer,col_indexer] = value instead\n",
      "\n",
      "See the caveats in the documentation: https://pandas.pydata.org/pandas-docs/stable/user_guide/indexing.html#returning-a-view-versus-a-copy\n",
      "\n"
     ]
    }
   ],
   "source": [
    "temp['bidirectional'] = both"
   ]
  },
  {
   "cell_type": "code",
   "execution_count": 74,
   "metadata": {},
   "outputs": [],
   "source": [
    "one_way = list(temp[temp['bidirectional']==0]['Path'])"
   ]
  },
  {
   "cell_type": "code",
   "execution_count": 96,
   "metadata": {},
   "outputs": [],
   "source": [
    "widths = np.ceil(np.array(temp['count'])/temp['count'].mean())"
   ]
  },
  {
   "cell_type": "code",
   "execution_count": 100,
   "metadata": {},
   "outputs": [],
   "source": [
    "with open(\"./invert_f.jpg\", \"rb\") as image_file:\n",
    "    encoded_image = base64.b64encode(image_file.read()).decode('utf-8')\n",
    "\n",
    "# Create figure\n",
    "fig = go.Figure()\n",
    "analomy = [\"entrance1 to ranger-stop1\",\"ranger-stop1 to entrance1\"]\n",
    "\n",
    "for edge, num_entries in zip(temp['Path'][:],widths):\n",
    "    start_point = pos[edge.split(\" \")[0]]\n",
    "    end_point = pos[edge.split(\" \")[-1]]\n",
    "    fig.add_trace(go.Scatter(x=[start_point[0]], y=[start_point[1]], mode='markers', marker=dict(size=10, color='rgba(0,255,0,0.3)'), name='',showlegend=False))\n",
    "\n",
    "# Add end point\n",
    "    fig.add_trace(go.Scatter(x=[end_point[0]], y=[end_point[1]], mode='markers', marker=dict(size=10, color='rgba(0,255,0,0.3)'), name='',showlegend=False))\n",
    "\n",
    "    # Add arrow line\n",
    "    if edge in one_way:\n",
    "        color = \"rgba(0,0,255,0.5)\"\n",
    "    \n",
    "        fig.add_trace(go.Scatter(x=[start_point[0], end_point[0]], y=[start_point[1], end_point[1]],\n",
    "                                mode='lines',\n",
    "                                line=dict(color=color, width=num_entries, dash='dashdot'),\n",
    "                                name='Arrow Line',showlegend=False))\n",
    "\n",
    "        # Add arrowhead annotation\n",
    "        \n",
    "        midpoint = ((start_point[0] + end_point[0]) / 2, (start_point[1] + end_point[1]) / 2)\n",
    "        \n",
    "        fig.add_annotation(x=midpoint[0], y=midpoint[1], ax=start_point[0], ay=start_point[1],\n",
    "                    xref='x', yref='y', axref='x', ayref='y',\n",
    "                    showarrow=True, arrowhead=3, arrowsize=1, arrowwidth=num_entries, arrowcolor=color)\n",
    "        continue\n",
    "    elif edge in analomy:\n",
    "        color = \"rgba(255,0,0,0.5)\"  \n",
    "    else:\n",
    "        color = \"rgba(255,0,255,0.5)\"\n",
    "    fig.add_trace(go.Scatter(x=[start_point[0], end_point[0]], y=[start_point[1], end_point[1]],\n",
    "                                mode='lines',\n",
    "                                line=dict(color=color, width=num_entries, dash='dashdot'),\n",
    "                                name='Arrow Line',showlegend=False))\n",
    "\n",
    "\n",
    "\n",
    "fig.add_layout_image(\n",
    "        dict(\n",
    "            source=f\"data:./invert_f.jpg;base64,{encoded_image}\",\n",
    "            xref=\"x\",\n",
    "            yref=\"y\",\n",
    "            x=0,\n",
    "            y=982,\n",
    "            sizex=982,\n",
    "            sizey=982,\n",
    "            opacity=1,\n",
    "             sizing=\"stretch\",\n",
    "            layer=\"below\")\n",
    ")\n",
    "fig.add_trace(go.Scatter(x=[800,830], y=[900,900], mode='lines', line=dict(color=\"rgba(0,0,255,1)\", width=2, dash='dashdot'),showlegend=False))\n",
    "fig.add_trace(go.Scatter(x=[880], y=[900], mode='text', text=\"Unidirectional\",textfont=dict(size=7),showlegend=False))\n",
    "fig.add_trace(go.Scatter(x=[800,830], y=[890,890], mode='lines', line=dict(color=\"rgba(255,0,0,1)\", width=2, dash='dashdot'),showlegend=False))\n",
    "fig.add_trace(go.Scatter(x=[880], y=[890], mode='text', text=\"Anomaly\",textfont=dict(size=7),showlegend=False))\n",
    "fig.add_trace(go.Scatter(x=[800,830], y=[880,880], mode='lines', line=dict(color= \"rgba(255,0,255,1)\", width=2, dash='dashdot'),showlegend=False))\n",
    "fig.add_trace(go.Scatter(x=[880], y=[880], mode='text', text=\"Biidirectional\",textfont=dict(size=7),showlegend=False))\n",
    "\n",
    "\n",
    "\n",
    "\n",
    "# Set templates\n",
    "fig.update_layout(height=982,\n",
    "   width=982,\n",
    ")\n",
    "\n",
    "fig.write_html(\"distinct_paths.html\", include_plotlyjs=\"cdn\")\n",
    "# fig.show()"
   ]
  },
  {
   "cell_type": "code",
   "execution_count": 116,
   "metadata": {},
   "outputs": [],
   "source": [
    "in_out_dic = {}\n",
    "for i,j in zip(self_loop_df['entry_gate'],self_loop_df['exit_gate']):\n",
    "    key = f\"{i} {j}\"\n",
    "    if key in in_out_dic:\n",
    "        in_out_dic[key]+=1\n",
    "    else:\n",
    "        in_out_dic[key] = 1\n",
    "    \n",
    "gate_names = np.unique(self_loop_df['exit_gate'])\n",
    "labels = [f'{category} (Entry)' for category in gate_names] + [f'{category} (Exit)' for category in gate_names]\n",
    "category_indices = {category: i for i, category in enumerate(gate_names)}\n",
    "source = []\n",
    "target = []\n",
    "value = []\n",
    "colors = ['rgba(31, 119, 180, 0.5)', 'rgba(255, 127, 14, 0.5)', 'rgba(44, 160, 44, 0.5)', 'rgba(214, 39, 40, 0.5)',\n",
    "                 'rgba(148, 103, 189, 0.5)', 'rgba(140, 86, 75, 0.5)', 'rgba(227, 119, 194, 0.5)', 'rgba(127, 127, 127, 0.5)',\n",
    "                 'rgba(188, 189, 34, 0.5)', 'rgba(23, 190, 207, 0.5)', 'rgba(255, 187, 120, 0.5)', 'rgba(44, 160, 44, 0.5)',\n",
    "                 'rgba(152, 223, 138, 0.5)', 'rgba(255, 152, 150, 0.5)', 'rgba(197, 176, 213, 0.5)']\n",
    "node_colors = [colors[i % len(colors)] for i in range(len(gate_names))] * 2\n",
    "link_colors = [colors[category_indices[origin.split(\" \")[0]] % len(colors)] for origin in in_out_dic]\n",
    "\n",
    "source = [category_indices[origin.split(\" \")[0]] for origin in in_out_dic]\n",
    "target = [len(gate_names) + category_indices[origin.split(\" \")[-1]] for origin in in_out_dic]\n",
    "value = [count for count in in_out_dic.values()]\n",
    "\n",
    "link = {\n",
    "    'source': source,\n",
    "    'target': target,\n",
    "    'value': value,\n",
    "    'color': link_colors\n",
    "}\n",
    "\n",
    "fig = go.Figure(data=[go.Sankey(\n",
    "    node=dict(\n",
    "        pad=15,\n",
    "        thickness=20,\n",
    "        line=dict(color=\"black\", width=0.5),\n",
    "        label=labels,\n",
    "        color=node_colors\n",
    "    ),\n",
    "    link=link\n",
    ")])\n",
    "\n",
    "fig.update_layout(title_text=\"Origin Destination with Gate Type\", font_size=10)\n",
    "fig.write_html(\"entry_exit.html\")\n",
    "# fig.show()"
   ]
  },
  {
   "cell_type": "code",
   "execution_count": 123,
   "metadata": {},
   "outputs": [],
   "source": [
    "exit_ = []\n",
    "for i in self_loop_df['exit_gate']:\n",
    "    if i.startswith(\"entrance\"):\n",
    "        exit_.append(1)\n",
    "    elif i.startswith(\"ranger-base\"):\n",
    "        exit_.append(1)\n",
    "    else:\n",
    "        exit_.append(0)\n",
    "        "
   ]
  },
  {
   "cell_type": "code",
   "execution_count": 124,
   "metadata": {},
   "outputs": [],
   "source": [
    "self_loop_df['exited']=exit_"
   ]
  },
  {
   "cell_type": "code",
   "execution_count": 126,
   "metadata": {},
   "outputs": [
    {
     "data": {
      "text/plain": [
       "Timestamp('2016-05-31 23:56:06')"
      ]
     },
     "execution_count": 126,
     "metadata": {},
     "output_type": "execute_result"
    }
   ],
   "source": [
    "df.index[-1]"
   ]
  },
  {
   "cell_type": "code",
   "execution_count": 128,
   "metadata": {},
   "outputs": [
    {
     "data": {
      "text/plain": [
       "0        2015-09-01 17:00:42\n",
       "1        2015-09-01 07:00:00\n",
       "2        2015-08-01 07:00:06\n",
       "3        2015-07-01 08:00:44\n",
       "4        2015-09-01 09:00:48\n",
       "                ...         \n",
       "18703    2016-03-13 09:59:39\n",
       "18704    2016-01-15 09:59:07\n",
       "18705    2016-05-21 10:59:28\n",
       "18706    2016-04-29 08:59:39\n",
       "18707    2016-03-29 10:59:35\n",
       "Name: enter_date, Length: 18708, dtype: object"
      ]
     },
     "execution_count": 128,
     "metadata": {},
     "output_type": "execute_result"
    }
   ],
   "source": [
    "self_loop_df['enter_date']"
   ]
  },
  {
   "cell_type": "code",
   "execution_count": 131,
   "metadata": {},
   "outputs": [],
   "source": [
    "self_loop_df[\"time_till_last_data_entry\"] = df.index[-1]-pd.to_datetime(self_loop_df['enter_date'])"
   ]
  },
  {
   "cell_type": "code",
   "execution_count": 183,
   "metadata": {},
   "outputs": [],
   "source": [
    "def to_hours(entry):\n",
    "    return entry.total_seconds()/3600"
   ]
  },
  {
   "cell_type": "code",
   "execution_count": 146,
   "metadata": {},
   "outputs": [],
   "source": [
    "self_loop_df['time_till_last_data_entry'] = df.index[-1]-pd.to_datetime(self_loop_df['enter_date'])"
   ]
  },
  {
   "cell_type": "code",
   "execution_count": 144,
   "metadata": {},
   "outputs": [],
   "source": [
    "self_loop_df['time_till_last_data_entry'] = self_loop_df['time_till_last_data_entry'].apply(to_hours)"
   ]
  },
  {
   "cell_type": "code",
   "execution_count": 148,
   "metadata": {},
   "outputs": [],
   "source": [
    "import matplotlib.pyplot as plt"
   ]
  },
  {
   "cell_type": "code",
   "execution_count": 184,
   "metadata": {},
   "outputs": [],
   "source": [
    "x  = self_loop_df[self_loop_df['exited']==0]['car-id']\n",
    "y = self_loop_df[self_loop_df['exited']==0]['time_till_last_data_entry'].apply(to_hours)"
   ]
  },
  {
   "cell_type": "code",
   "execution_count": 185,
   "metadata": {},
   "outputs": [
    {
     "data": {
      "image/png": "[encoded data removed]",
      "text/plain": [
       "<Figure size 1500x600 with 1 Axes>"
      ]
     },
     "metadata": {},
     "output_type": "display_data"
    }
   ],
   "source": [
    "fig,ax  = plt.subplots(figsize=(15,6))\n",
    "ax.bar(x,y)\n",
    "ax.tick_params(axis='x', rotation=90)\n",
    "ax.set_xlabel('Car Id')\n",
    "ax.set_ylabel('Total time till last entry of data')\n",
    "plt.show()"
   ]
  },
  {
   "cell_type": "code",
   "execution_count": 186,
   "metadata": {},
   "outputs": [],
   "source": [
    "x  = self_loop_df[self_loop_df['exited']==0]['car-id'][1:]\n",
    "y = self_loop_df[self_loop_df['exited']==0]['time_till_last_data_entry'][1:].apply(to_hours)"
   ]
  },
  {
   "cell_type": "code",
   "execution_count": 187,
   "metadata": {},
   "outputs": [
    {
     "data": {
      "image/png": "[encoded data removed]",
      "text/plain": [
       "<Figure size 1500x600 with 1 Axes>"
      ]
     },
     "metadata": {},
     "output_type": "display_data"
    }
   ],
   "source": [
    "fig,ax  = plt.subplots(figsize=(15,6))\n",
    "ax.bar(x,y)\n",
    "ax.tick_params(axis='x', rotation=90)\n",
    "ax.set_xlabel('Car Id')\n",
    "ax.set_ylabel('Total time till last entry of data')\n",
    "plt.show()"
   ]
  },
  {
   "cell_type": "code",
   "execution_count": 210,
   "metadata": {},
   "outputs": [],
   "source": [
    "outliers =  pd.DataFrame()\n",
    "for car_id in np.unique(df['car-id']):\n",
    "    car_df = df[df['car-id']==car_id]\n",
    "    for i in range(len(car_df)-1):\n",
    "        if car_df['gate-name'].loc[car_df.index[i]] == \"entrance1\" and car_df['gate-name'].loc[car_df.index[i+1]] == \"ranger-stop1\":\n",
    "            outliers = pd.concat((outliers,car_df))\n",
    "            break\n",
    "        if car_df['gate-name'].loc[car_df.index[i]] == \"ranger-stop1\" and car_df['gate-name'].loc[car_df.index[i+1]] == \"entrance1\":\n",
    "            outliers = pd.concat((outliers,car_df))\n",
    "            break"
   ]
  },
  {
   "cell_type": "code",
   "execution_count": 217,
   "metadata": {},
   "outputs": [],
   "source": [
    "X= []\n",
    "Y = []\n",
    "for car_id in np.unique(outliers['car-id']):\n",
    "    temp =  outliers[outliers['car-id']==car_id]\n",
    "    x = []\n",
    "    y = []\n",
    "    for i in list(temp[\"gate-name\"]):\n",
    "        point = pos[i]\n",
    "        x.append(point[0])\n",
    "        y.append(point[1])\n",
    "    X.append(x)\n",
    "    Y.append(y)\n",
    "        "
   ]
  },
  {
   "cell_type": "code",
   "execution_count": 226,
   "metadata": {},
   "outputs": [],
   "source": [
    "outliers.to_csv(\"imposible_path_taken.csv\")"
   ]
  },
  {
   "cell_type": "code",
   "execution_count": 247,
   "metadata": {},
   "outputs": [],
   "source": [
    "X =[]\n",
    "Y = []\n",
    "Size = []\n",
    "Gates = []\n",
    "for car_type in  ['1', '2', '2P', '3', '4', '5', '6']:\n",
    "    x =[]\n",
    "    y = []\n",
    "    size =[]\n",
    "    gates = []\n",
    "    temp = self_loop_df[self_loop_df['car_type']==car_type][self_loop_df.columns[5:45]].sum()\n",
    "    for i,j in zip(temp.index,temp):\n",
    "        if j !=0:\n",
    "            cords = pos[i]\n",
    "            size.append(j)\n",
    "            x.append(cords[0])\n",
    "            y.append(cords[1])\n",
    "            gates.append(i)\n",
    "    Gates.append(gates)\n",
    "    X.append(x)\n",
    "    Y.append(y)\n",
    "    Size.append(size)"
   ]
  },
  {
   "cell_type": "code",
   "execution_count": 258,
   "metadata": {},
   "outputs": [],
   "source": [
    "texts = []\n",
    "for i in range(len(Size)):\n",
    "    text = [f\"Gate: {i}<br>Time (Minutes) <br>{j}\" for i,j in zip(Gates[i],Size[i])]\n",
    "    texts.append(text)"
   ]
  },
  {
   "cell_type": "code",
   "execution_count": 260,
   "metadata": {},
   "outputs": [],
   "source": [
    "with open(\"./invert_f.jpg\", \"rb\") as image_file:\n",
    "    encoded_image = base64.b64encode(image_file.read()).decode('utf-8')\n",
    "\n",
    "# Create figure\n",
    "fig = go.Figure()\n",
    "trace_all = go.Scatter(x=X_all, y=y_all, mode='markers',text = gates_all,marker=dict(size=6, color='rgba(0,0,255,1)'),showlegend=False,name=\"\")\n",
    "trace_car1_1 = go.Scatter(x=X[0], y=Y[0],text = texts[0] , mode='markers', marker=dict(size=(np.array(Size[0])/max(Size[0]))*100, color='rgba(255,0,0,0.5)'),showlegend=False,name=\"\")\n",
    "trace_car1_2 = go.Scatter(x=X[0], y=Y[0], mode='markers', marker=dict(size=6, color='rgba(255,0,0,1)'),showlegend=False,hoverinfo='none',name=\"\")\n",
    "\n",
    "trace_car2_1 = go.Scatter(x=X[1], y=Y[1],text = texts[1], mode='markers', marker=dict(size= (np.array(Size[1])/max(Size[1]))*100, color='rgba(255,0,0,0.5)'),showlegend=False,name=\"\")\n",
    "trace_car2_2 = go.Scatter(x=X[1], y=Y[1], mode='markers', marker=dict(size=6, color='rgba(255,0,0,1)'),showlegend=False,hoverinfo='none',name=\"\")\n",
    "\n",
    "trace_car2P_1 = go.Scatter(x=X[2], y=Y[2],text = texts[2], mode='markers', marker=dict(size=(np.array(Size[2])/max(Size[2]))*100, color='rgba(255,0,0,0.5)'),showlegend=False,name=\"\")\n",
    "trace_car2P_2 = go.Scatter(x=X[2], y=Y[2], mode='markers', marker=dict(size=6, color='rgba(255,0,0,1)'),showlegend=False,hoverinfo='none',name=\"\")\n",
    "\n",
    "trace_car3_1 = go.Scatter(x=X[3], y=Y[3],text = texts[3], mode='markers', marker=dict(size=(np.array(Size[3])/max(Size[3]))*100, color='rgba(255,0,0,0.5)'),showlegend=False,name=\"\")\n",
    "trace_car3_2 = go.Scatter(x=X[3], y=Y[3], mode='markers', marker=dict(size=6, color='rgba(255,0,0,1)'),showlegend=False,hoverinfo='none',name=\"\")\n",
    "\n",
    "trace_car4_1 = go.Scatter(x=X[4], y=Y[4],text = texts[4], mode='markers', marker=dict(size=(np.array(Size[4])/max(Size[4]))*100, color='rgba(255,0,0,0.5)'),showlegend=False,name=\"\")\n",
    "trace_car4_2 = go.Scatter(x=X[4], y=Y[4], mode='markers', marker=dict(size=6, color='rgba(255,0,0,1)'),showlegend=False,hoverinfo='none',name=\"\")\n",
    "\n",
    "trace_car5_1 = go.Scatter(x=X[5], y=Y[5],text = texts[5], mode='markers', marker=dict(size=(np.array(Size[5])/1)*100, color='rgba(255,0,0,0.5)'),showlegend=False,name=\"\")\n",
    "trace_car5_2 = go.Scatter(x=X[5], y=Y[5], mode='markers', marker=dict(size=6, color='rgba(255,0,0,1)'),showlegend=False,hoverinfo='none',name=\"\")\n",
    "\n",
    "trace_car6_1 = go.Scatter(x=X[6], y=Y[6],text = texts[6], mode='markers', marker=dict(size=(np.array(Size[6])/1)*100, color='rgba(255,0,0,0.5)'),showlegend=False,name=\"\")\n",
    "trace_car6_2 = go.Scatter(x=X[6], y=Y[6], mode='markers', marker=dict(size=6, color='rgba(255,0,0,1)'),showlegend=False,hoverinfo='none',name=\"\")\n",
    "\n",
    "fig = go.Figure(data=[trace_all, trace_car1_2, trace_car1_1,trace_car2_2,trace_car2_1,trace_car2P_2,trace_car2P_1,trace_car3_2,\n",
    "                      trace_car3_1,trace_car4_2,trace_car4_1,trace_car5_2,trace_car5_1,trace_car6_2,trace_car6_1])\n",
    "\n",
    "\n",
    "\n",
    "fig.add_layout_image(\n",
    "        dict(\n",
    "            source=f\"data:./invert_f.jpg;base64,{encoded_image}\",\n",
    "            xref=\"x\",\n",
    "            yref=\"y\",\n",
    "            x=0,\n",
    "            y=982,\n",
    "            sizex=982,\n",
    "            sizey=982,\n",
    "            opacity=1,\n",
    "             sizing=\"stretch\",\n",
    "            layer=\"below\")\n",
    ")\n",
    "\n",
    "fig.update_layout(\n",
    "    updatemenus=[\n",
    "        dict(\n",
    "            type=\"buttons\",\n",
    "            direction=\"right\",\n",
    "            active=0,\n",
    "            x=0.57,\n",
    "            y=1.2,\n",
    "            buttons=list([\n",
    "                dict(label=\"1\",\n",
    "                     method=\"update\",\n",
    "                     args=[{\"visible\": [True, True, True, False, False, False, False, False, False, False, False, False, False, False, False]},\n",
    "                           {\"title\": \"Car Type 1\",\n",
    "                            \"annotations\": []}]),\n",
    "                dict(label=\"2\",\n",
    "                     method=\"update\",\n",
    "                     args=[{\"visible\": [True, False, False, True, True, False, False, False, False, False, False, False, False, False, False]},\n",
    "                           {\"title\":\"Car Type 2\",\n",
    "                            \"annotations\": []}]),\n",
    "                dict(label=\"2P\",\n",
    "                     method=\"update\",\n",
    "                     args=[{\"visible\": [True, False, False, False, False, True, True, False, False, False, False, False, False, False, False]},\n",
    "                           {\"title\": \"Car Type 2P\",\n",
    "                            \"annotations\": []}]),\n",
    "                dict(label=\"3\",\n",
    "                     method=\"update\",\n",
    "                     args=[{\"visible\": [True, False, False, False, False, False, False, True, True, False, False, False, False, False, False]},\n",
    "                           {\"title\":\"3\",\n",
    "                            \"annotations\": []}]),\n",
    "                dict(label=\"4\",\n",
    "                     method=\"update\",\n",
    "                     args=[{\"visible\": [True, False, False, False, False, False, False, False, False, True, True, False, False, False, False]},\n",
    "                           {\"title\": \"Car Type 4\",\n",
    "                            \"annotations\": []}]),\n",
    "                dict(label=\"5\",\n",
    "                     method=\"update\",\n",
    "                     args=[{\"visible\": [True, False, False, False, False, False, False, False, False, False, False, True, True, False, False]},\n",
    "                           {\"title\":\"Car Type 5\",\n",
    "                            \"annotations\": []}]),\n",
    "                dict(label=\"6\",\n",
    "                     method=\"update\",\n",
    "                     args=[{\"visible\": [True, False, False, False, False, False, False, False, False, False, False, False, False, True, True]},\n",
    "                           {\"title\": \"Car Type 6\",\n",
    "                            \"annotations\": []}]),\n",
    "                \n",
    "            ]),\n",
    "        )\n",
    "    ])\n",
    "\n",
    "\n",
    "# Set templates\n",
    "fig.update_layout(height=982,\n",
    "   width=982\n",
    ")\n",
    "fig.write_html(\"timespend.html\", include_plotlyjs=\"cdn\")\n",
    "# fig.show()\n",
    "    "
   ]
  },
  {
   "cell_type": "code",
   "execution_count": 284,
   "metadata": {},
   "outputs": [
    {
     "data": {
      "text/html": [
       "<div>\n",
       "<style scoped>\n",
       "    .dataframe tbody tr th:only-of-type {\n",
       "        vertical-align: middle;\n",
       "    }\n",
       "\n",
       "    .dataframe tbody tr th {\n",
       "        vertical-align: top;\n",
       "    }\n",
       "\n",
       "    .dataframe thead th {\n",
       "        text-align: right;\n",
       "    }\n",
       "</style>\n",
       "<table border=\"1\" class=\"dataframe\">\n",
       "  <thead>\n",
       "    <tr style=\"text-align: right;\">\n",
       "      <th></th>\n",
       "      <th>ranger-stop3</th>\n",
       "      <th>ranger-stop4</th>\n",
       "      <th>ranger-stop5</th>\n",
       "      <th>ranger-stop6</th>\n",
       "      <th>ranger-stop7</th>\n",
       "      <th>selfloop</th>\n",
       "      <th>entry_gate</th>\n",
       "      <th>exit_gate</th>\n",
       "      <th>exited</th>\n",
       "      <th>time_till_last_data_entry</th>\n",
       "    </tr>\n",
       "  </thead>\n",
       "  <tbody>\n",
       "    <tr>\n",
       "      <th>0</th>\n",
       "      <td>0.00</td>\n",
       "      <td>0.0</td>\n",
       "      <td>0.00</td>\n",
       "      <td>0.00</td>\n",
       "      <td>0.0</td>\n",
       "      <td>1.0</td>\n",
       "      <td>entrance2</td>\n",
       "      <td>entrance4</td>\n",
       "      <td>1</td>\n",
       "      <td>273 days 06:55:24</td>\n",
       "    </tr>\n",
       "    <tr>\n",
       "      <th>1</th>\n",
       "      <td>0.00</td>\n",
       "      <td>0.0</td>\n",
       "      <td>0.00</td>\n",
       "      <td>0.00</td>\n",
       "      <td>0.0</td>\n",
       "      <td>0.0</td>\n",
       "      <td>entrance2</td>\n",
       "      <td>entrance1</td>\n",
       "      <td>1</td>\n",
       "      <td>273 days 16:56:06</td>\n",
       "    </tr>\n",
       "    <tr>\n",
       "      <th>2</th>\n",
       "      <td>0.00</td>\n",
       "      <td>0.0</td>\n",
       "      <td>0.00</td>\n",
       "      <td>0.00</td>\n",
       "      <td>0.0</td>\n",
       "      <td>1.0</td>\n",
       "      <td>entrance2</td>\n",
       "      <td>entrance1</td>\n",
       "      <td>1</td>\n",
       "      <td>304 days 16:56:00</td>\n",
       "    </tr>\n",
       "    <tr>\n",
       "      <th>3</th>\n",
       "      <td>0.00</td>\n",
       "      <td>0.0</td>\n",
       "      <td>0.00</td>\n",
       "      <td>0.00</td>\n",
       "      <td>0.0</td>\n",
       "      <td>1.0</td>\n",
       "      <td>entrance0</td>\n",
       "      <td>entrance3</td>\n",
       "      <td>1</td>\n",
       "      <td>335 days 15:55:22</td>\n",
       "    </tr>\n",
       "    <tr>\n",
       "      <th>4</th>\n",
       "      <td>0.00</td>\n",
       "      <td>0.0</td>\n",
       "      <td>0.00</td>\n",
       "      <td>0.00</td>\n",
       "      <td>0.0</td>\n",
       "      <td>1.0</td>\n",
       "      <td>entrance3</td>\n",
       "      <td>entrance4</td>\n",
       "      <td>1</td>\n",
       "      <td>273 days 14:55:18</td>\n",
       "    </tr>\n",
       "    <tr>\n",
       "      <th>...</th>\n",
       "      <td>...</td>\n",
       "      <td>...</td>\n",
       "      <td>...</td>\n",
       "      <td>...</td>\n",
       "      <td>...</td>\n",
       "      <td>...</td>\n",
       "      <td>...</td>\n",
       "      <td>...</td>\n",
       "      <td>...</td>\n",
       "      <td>...</td>\n",
       "    </tr>\n",
       "    <tr>\n",
       "      <th>18703</th>\n",
       "      <td>4.03</td>\n",
       "      <td>0.0</td>\n",
       "      <td>0.00</td>\n",
       "      <td>0.00</td>\n",
       "      <td>0.0</td>\n",
       "      <td>2.0</td>\n",
       "      <td>ranger-base</td>\n",
       "      <td>ranger-base</td>\n",
       "      <td>1</td>\n",
       "      <td>79 days 13:56:27</td>\n",
       "    </tr>\n",
       "    <tr>\n",
       "      <th>18704</th>\n",
       "      <td>18.03</td>\n",
       "      <td>0.0</td>\n",
       "      <td>0.00</td>\n",
       "      <td>0.00</td>\n",
       "      <td>0.0</td>\n",
       "      <td>2.0</td>\n",
       "      <td>ranger-base</td>\n",
       "      <td>ranger-base</td>\n",
       "      <td>1</td>\n",
       "      <td>137 days 13:56:59</td>\n",
       "    </tr>\n",
       "    <tr>\n",
       "      <th>18705</th>\n",
       "      <td>0.00</td>\n",
       "      <td>0.0</td>\n",
       "      <td>16.03</td>\n",
       "      <td>43.03</td>\n",
       "      <td>0.0</td>\n",
       "      <td>4.0</td>\n",
       "      <td>ranger-base</td>\n",
       "      <td>ranger-base</td>\n",
       "      <td>1</td>\n",
       "      <td>10 days 12:56:38</td>\n",
       "    </tr>\n",
       "    <tr>\n",
       "      <th>18706</th>\n",
       "      <td>50.03</td>\n",
       "      <td>0.0</td>\n",
       "      <td>11.03</td>\n",
       "      <td>8.03</td>\n",
       "      <td>0.0</td>\n",
       "      <td>3.0</td>\n",
       "      <td>ranger-base</td>\n",
       "      <td>ranger-base</td>\n",
       "      <td>1</td>\n",
       "      <td>32 days 14:56:27</td>\n",
       "    </tr>\n",
       "    <tr>\n",
       "      <th>18707</th>\n",
       "      <td>9.03</td>\n",
       "      <td>0.0</td>\n",
       "      <td>45.03</td>\n",
       "      <td>28.03</td>\n",
       "      <td>0.0</td>\n",
       "      <td>3.0</td>\n",
       "      <td>ranger-base</td>\n",
       "      <td>ranger-base</td>\n",
       "      <td>1</td>\n",
       "      <td>63 days 12:56:31</td>\n",
       "    </tr>\n",
       "  </tbody>\n",
       "</table>\n",
       "<p>18708 rows × 10 columns</p>\n",
       "</div>"
      ],
      "text/plain": [
       "       ranger-stop3  ranger-stop4  ranger-stop5  ranger-stop6  ranger-stop7  \\\n",
       "0              0.00           0.0          0.00          0.00           0.0   \n",
       "1              0.00           0.0          0.00          0.00           0.0   \n",
       "2              0.00           0.0          0.00          0.00           0.0   \n",
       "3              0.00           0.0          0.00          0.00           0.0   \n",
       "4              0.00           0.0          0.00          0.00           0.0   \n",
       "...             ...           ...           ...           ...           ...   \n",
       "18703          4.03           0.0          0.00          0.00           0.0   \n",
       "18704         18.03           0.0          0.00          0.00           0.0   \n",
       "18705          0.00           0.0         16.03         43.03           0.0   \n",
       "18706         50.03           0.0         11.03          8.03           0.0   \n",
       "18707          9.03           0.0         45.03         28.03           0.0   \n",
       "\n",
       "       selfloop   entry_gate    exit_gate  exited time_till_last_data_entry  \n",
       "0           1.0    entrance2    entrance4       1         273 days 06:55:24  \n",
       "1           0.0    entrance2    entrance1       1         273 days 16:56:06  \n",
       "2           1.0    entrance2    entrance1       1         304 days 16:56:00  \n",
       "3           1.0    entrance0    entrance3       1         335 days 15:55:22  \n",
       "4           1.0    entrance3    entrance4       1         273 days 14:55:18  \n",
       "...         ...          ...          ...     ...                       ...  \n",
       "18703       2.0  ranger-base  ranger-base       1          79 days 13:56:27  \n",
       "18704       2.0  ranger-base  ranger-base       1         137 days 13:56:59  \n",
       "18705       4.0  ranger-base  ranger-base       1          10 days 12:56:38  \n",
       "18706       3.0  ranger-base  ranger-base       1          32 days 14:56:27  \n",
       "18707       3.0  ranger-base  ranger-base       1          63 days 12:56:31  \n",
       "\n",
       "[18708 rows x 10 columns]"
      ]
     },
     "execution_count": 284,
     "metadata": {},
     "output_type": "execute_result"
    }
   ],
   "source": [
    "self_loop_df[self_loop_df.columns[40:]]"
   ]
  },
  {
   "cell_type": "code",
   "execution_count": 287,
   "metadata": {},
   "outputs": [],
   "source": [
    "cols = list(self_loop_df.columns[:5])+list(self_loop_df.columns[14:19])+['entry_gate',\"exit_gate\",\"exited\",\"time_till_last_data_entry\"]"
   ]
  },
  {
   "cell_type": "code",
   "execution_count": 289,
   "metadata": {},
   "outputs": [],
   "source": [
    "outliers = self_loop_df[self_loop_df[self_loop_df.columns[14:19]].T.sum()>0][cols]"
   ]
  },
  {
   "cell_type": "code",
   "execution_count": null,
   "metadata": {},
   "outputs": [],
   "source": []
  },
  {
   "cell_type": "code",
   "execution_count": 299,
   "metadata": {},
   "outputs": [],
   "source": [
    "outliers.to_csv('selfloop at entrance.csv')"
   ]
  },
  {
   "cell_type": "code",
   "execution_count": 4,
   "metadata": {},
   "outputs": [],
   "source": [
    "outliers = pd.read_csv(\"selfloop at entrance.csv\",index_col=0)"
   ]
  },
  {
   "cell_type": "code",
   "execution_count": 104,
   "metadata": {},
   "outputs": [
    {
     "data": {
      "text/html": [
       "<div>\n",
       "<style scoped>\n",
       "    .dataframe tbody tr th:only-of-type {\n",
       "        vertical-align: middle;\n",
       "    }\n",
       "\n",
       "    .dataframe tbody tr th {\n",
       "        vertical-align: top;\n",
       "    }\n",
       "\n",
       "    .dataframe thead th {\n",
       "        text-align: right;\n",
       "    }\n",
       "</style>\n",
       "<table border=\"1\" class=\"dataframe\">\n",
       "  <thead>\n",
       "    <tr style=\"text-align: right;\">\n",
       "      <th></th>\n",
       "      <th>car-id</th>\n",
       "      <th>car-type</th>\n",
       "      <th>gate-name</th>\n",
       "      <th>count</th>\n",
       "    </tr>\n",
       "    <tr>\n",
       "      <th>Timestamp</th>\n",
       "      <th></th>\n",
       "      <th></th>\n",
       "      <th></th>\n",
       "      <th></th>\n",
       "    </tr>\n",
       "  </thead>\n",
       "  <tbody>\n",
       "    <tr>\n",
       "      <th>2016-05-27 16:20:12</th>\n",
       "      <td>20162027042012-940</td>\n",
       "      <td>1</td>\n",
       "      <td>entrance2</td>\n",
       "      <td>1.0</td>\n",
       "    </tr>\n",
       "    <tr>\n",
       "      <th>2016-05-27 16:37:48</th>\n",
       "      <td>20162027042012-940</td>\n",
       "      <td>1</td>\n",
       "      <td>camping1</td>\n",
       "      <td>1.0</td>\n",
       "    </tr>\n",
       "    <tr>\n",
       "      <th>2016-05-29 08:44:04</th>\n",
       "      <td>20162027042012-940</td>\n",
       "      <td>1</td>\n",
       "      <td>camping1</td>\n",
       "      <td>1.0</td>\n",
       "    </tr>\n",
       "    <tr>\n",
       "      <th>2016-05-29 08:52:42</th>\n",
       "      <td>20162027042012-940</td>\n",
       "      <td>1</td>\n",
       "      <td>general-gate5</td>\n",
       "      <td>1.0</td>\n",
       "    </tr>\n",
       "    <tr>\n",
       "      <th>2016-05-29 09:03:19</th>\n",
       "      <td>20162027042012-940</td>\n",
       "      <td>1</td>\n",
       "      <td>entrance4</td>\n",
       "      <td>1.0</td>\n",
       "    </tr>\n",
       "    <tr>\n",
       "      <th>2016-05-29 09:23:21</th>\n",
       "      <td>20162027042012-940</td>\n",
       "      <td>1</td>\n",
       "      <td>entrance4</td>\n",
       "      <td>1.0</td>\n",
       "    </tr>\n",
       "    <tr>\n",
       "      <th>2016-05-29 09:33:53</th>\n",
       "      <td>20162027042012-940</td>\n",
       "      <td>1</td>\n",
       "      <td>general-gate5</td>\n",
       "      <td>1.0</td>\n",
       "    </tr>\n",
       "    <tr>\n",
       "      <th>2016-05-29 09:42:37</th>\n",
       "      <td>20162027042012-940</td>\n",
       "      <td>1</td>\n",
       "      <td>camping1</td>\n",
       "      <td>1.0</td>\n",
       "    </tr>\n",
       "    <tr>\n",
       "      <th>2016-05-29 09:46:39</th>\n",
       "      <td>20162027042012-940</td>\n",
       "      <td>1</td>\n",
       "      <td>camping1</td>\n",
       "      <td>1.0</td>\n",
       "    </tr>\n",
       "    <tr>\n",
       "      <th>2016-05-29 09:55:17</th>\n",
       "      <td>20162027042012-940</td>\n",
       "      <td>1</td>\n",
       "      <td>general-gate5</td>\n",
       "      <td>1.0</td>\n",
       "    </tr>\n",
       "    <tr>\n",
       "      <th>2016-05-29 10:05:54</th>\n",
       "      <td>20162027042012-940</td>\n",
       "      <td>1</td>\n",
       "      <td>entrance4</td>\n",
       "      <td>1.0</td>\n",
       "    </tr>\n",
       "    <tr>\n",
       "      <th>2016-05-29 10:09:56</th>\n",
       "      <td>20162027042012-940</td>\n",
       "      <td>1</td>\n",
       "      <td>entrance4</td>\n",
       "      <td>1.0</td>\n",
       "    </tr>\n",
       "    <tr>\n",
       "      <th>2016-05-29 10:20:28</th>\n",
       "      <td>20162027042012-940</td>\n",
       "      <td>1</td>\n",
       "      <td>general-gate5</td>\n",
       "      <td>1.0</td>\n",
       "    </tr>\n",
       "    <tr>\n",
       "      <th>2016-05-29 10:29:12</th>\n",
       "      <td>20162027042012-940</td>\n",
       "      <td>1</td>\n",
       "      <td>camping1</td>\n",
       "      <td>1.0</td>\n",
       "    </tr>\n",
       "    <tr>\n",
       "      <th>2016-05-29 10:32:14</th>\n",
       "      <td>20162027042012-940</td>\n",
       "      <td>1</td>\n",
       "      <td>camping1</td>\n",
       "      <td>1.0</td>\n",
       "    </tr>\n",
       "    <tr>\n",
       "      <th>2016-05-29 10:40:52</th>\n",
       "      <td>20162027042012-940</td>\n",
       "      <td>1</td>\n",
       "      <td>general-gate5</td>\n",
       "      <td>1.0</td>\n",
       "    </tr>\n",
       "    <tr>\n",
       "      <th>2016-05-29 10:51:29</th>\n",
       "      <td>20162027042012-940</td>\n",
       "      <td>1</td>\n",
       "      <td>entrance4</td>\n",
       "      <td>1.0</td>\n",
       "    </tr>\n",
       "  </tbody>\n",
       "</table>\n",
       "</div>"
      ],
      "text/plain": [
       "                                 car-id car-type      gate-name  count\n",
       "Timestamp                                                             \n",
       "2016-05-27 16:20:12  20162027042012-940        1      entrance2    1.0\n",
       "2016-05-27 16:37:48  20162027042012-940        1       camping1    1.0\n",
       "2016-05-29 08:44:04  20162027042012-940        1       camping1    1.0\n",
       "2016-05-29 08:52:42  20162027042012-940        1  general-gate5    1.0\n",
       "2016-05-29 09:03:19  20162027042012-940        1      entrance4    1.0\n",
       "2016-05-29 09:23:21  20162027042012-940        1      entrance4    1.0\n",
       "2016-05-29 09:33:53  20162027042012-940        1  general-gate5    1.0\n",
       "2016-05-29 09:42:37  20162027042012-940        1       camping1    1.0\n",
       "2016-05-29 09:46:39  20162027042012-940        1       camping1    1.0\n",
       "2016-05-29 09:55:17  20162027042012-940        1  general-gate5    1.0\n",
       "2016-05-29 10:05:54  20162027042012-940        1      entrance4    1.0\n",
       "2016-05-29 10:09:56  20162027042012-940        1      entrance4    1.0\n",
       "2016-05-29 10:20:28  20162027042012-940        1  general-gate5    1.0\n",
       "2016-05-29 10:29:12  20162027042012-940        1       camping1    1.0\n",
       "2016-05-29 10:32:14  20162027042012-940        1       camping1    1.0\n",
       "2016-05-29 10:40:52  20162027042012-940        1  general-gate5    1.0\n",
       "2016-05-29 10:51:29  20162027042012-940        1      entrance4    1.0"
      ]
     },
     "execution_count": 104,
     "metadata": {},
     "output_type": "execute_result"
    }
   ],
   "source": [
    "df[df['car-id']==\"20162027042012-940\"]"
   ]
  },
  {
   "cell_type": "code",
   "execution_count": 103,
   "metadata": {},
   "outputs": [
    {
     "data": {
      "text/html": [
       "<div>\n",
       "<style scoped>\n",
       "    .dataframe tbody tr th:only-of-type {\n",
       "        vertical-align: middle;\n",
       "    }\n",
       "\n",
       "    .dataframe tbody tr th {\n",
       "        vertical-align: top;\n",
       "    }\n",
       "\n",
       "    .dataframe thead th {\n",
       "        text-align: right;\n",
       "    }\n",
       "</style>\n",
       "<table border=\"1\" class=\"dataframe\">\n",
       "  <thead>\n",
       "    <tr style=\"text-align: right;\">\n",
       "      <th></th>\n",
       "      <th>car-id</th>\n",
       "      <th>car_type</th>\n",
       "      <th>enter_date</th>\n",
       "      <th>exit_date</th>\n",
       "      <th>total_in_time</th>\n",
       "      <th>entrance0</th>\n",
       "      <th>entrance1</th>\n",
       "      <th>entrance2</th>\n",
       "      <th>entrance3</th>\n",
       "      <th>entrance4</th>\n",
       "      <th>entry_gate</th>\n",
       "      <th>exit_gate</th>\n",
       "      <th>exited</th>\n",
       "      <th>time_till_last_data_entry</th>\n",
       "    </tr>\n",
       "  </thead>\n",
       "  <tbody>\n",
       "    <tr>\n",
       "      <th>4531</th>\n",
       "      <td>20154112014114-381</td>\n",
       "      <td>1</td>\n",
       "      <td>2015-06-12 13:41:14</td>\n",
       "      <td>2015-07-26 23:00:51</td>\n",
       "      <td>63919.62</td>\n",
       "      <td>6637.30</td>\n",
       "      <td>0.00</td>\n",
       "      <td>0.0</td>\n",
       "      <td>0.00</td>\n",
       "      <td>0.00</td>\n",
       "      <td>entrance0</td>\n",
       "      <td>entrance0</td>\n",
       "      <td>1</td>\n",
       "      <td>354 days 10:14:52</td>\n",
       "    </tr>\n",
       "    <tr>\n",
       "      <th>6853</th>\n",
       "      <td>20162027042012-940</td>\n",
       "      <td>1</td>\n",
       "      <td>2016-05-27 16:20:12</td>\n",
       "      <td>2016-05-29 10:51:29</td>\n",
       "      <td>2551.28</td>\n",
       "      <td>0.00</td>\n",
       "      <td>0.00</td>\n",
       "      <td>0.0</td>\n",
       "      <td>0.00</td>\n",
       "      <td>4.03</td>\n",
       "      <td>entrance2</td>\n",
       "      <td>entrance4</td>\n",
       "      <td>1</td>\n",
       "      <td>4 days 07:35:54</td>\n",
       "    </tr>\n",
       "    <tr>\n",
       "      <th>7002</th>\n",
       "      <td>20162904122951-717</td>\n",
       "      <td>1</td>\n",
       "      <td>2016-03-04 12:29:51</td>\n",
       "      <td>2016-04-10 22:14:22</td>\n",
       "      <td>53864.52</td>\n",
       "      <td>0.00</td>\n",
       "      <td>0.00</td>\n",
       "      <td>0.0</td>\n",
       "      <td>6639.97</td>\n",
       "      <td>0.00</td>\n",
       "      <td>entrance3</td>\n",
       "      <td>entrance3</td>\n",
       "      <td>1</td>\n",
       "      <td>88 days 11:26:15</td>\n",
       "    </tr>\n",
       "    <tr>\n",
       "      <th>10501</th>\n",
       "      <td>20154519024544-322</td>\n",
       "      <td>2</td>\n",
       "      <td>2015-06-19 14:45:44</td>\n",
       "      <td>2015-10-05 00:36:54</td>\n",
       "      <td>154671.17</td>\n",
       "      <td>0.00</td>\n",
       "      <td>0.00</td>\n",
       "      <td>0.0</td>\n",
       "      <td>0.00</td>\n",
       "      <td>6611.17</td>\n",
       "      <td>entrance1</td>\n",
       "      <td>entrance4</td>\n",
       "      <td>1</td>\n",
       "      <td>347 days 09:10:22</td>\n",
       "    </tr>\n",
       "    <tr>\n",
       "      <th>13828</th>\n",
       "      <td>20153712013720-181</td>\n",
       "      <td>3</td>\n",
       "      <td>2015-07-12 13:37:20</td>\n",
       "      <td>2015-08-04 22:32:31</td>\n",
       "      <td>33655.18</td>\n",
       "      <td>0.00</td>\n",
       "      <td>0.00</td>\n",
       "      <td>0.0</td>\n",
       "      <td>0.00</td>\n",
       "      <td>6654.00</td>\n",
       "      <td>entrance2</td>\n",
       "      <td>entrance4</td>\n",
       "      <td>1</td>\n",
       "      <td>324 days 10:18:46</td>\n",
       "    </tr>\n",
       "    <tr>\n",
       "      <th>15272</th>\n",
       "      <td>20150204100226-134</td>\n",
       "      <td>4</td>\n",
       "      <td>2015-07-04 22:02:26</td>\n",
       "      <td>2015-07-05 08:41:17</td>\n",
       "      <td>638.85</td>\n",
       "      <td>0.00</td>\n",
       "      <td>582.32</td>\n",
       "      <td>0.0</td>\n",
       "      <td>0.00</td>\n",
       "      <td>0.00</td>\n",
       "      <td>entrance1</td>\n",
       "      <td>entrance4</td>\n",
       "      <td>1</td>\n",
       "      <td>332 days 01:53:40</td>\n",
       "    </tr>\n",
       "    <tr>\n",
       "      <th>15299</th>\n",
       "      <td>20150322080300-861</td>\n",
       "      <td>4</td>\n",
       "      <td>2015-10-22 20:03:00</td>\n",
       "      <td>2015-10-23 07:27:00</td>\n",
       "      <td>684.00</td>\n",
       "      <td>647.02</td>\n",
       "      <td>0.00</td>\n",
       "      <td>0.0</td>\n",
       "      <td>0.00</td>\n",
       "      <td>0.00</td>\n",
       "      <td>entrance0</td>\n",
       "      <td>entrance4</td>\n",
       "      <td>1</td>\n",
       "      <td>222 days 03:53:06</td>\n",
       "    </tr>\n",
       "    <tr>\n",
       "      <th>15738</th>\n",
       "      <td>20153427103455-30</td>\n",
       "      <td>4</td>\n",
       "      <td>2015-06-27 22:34:55</td>\n",
       "      <td>2015-06-28 09:28:29</td>\n",
       "      <td>653.57</td>\n",
       "      <td>0.00</td>\n",
       "      <td>0.00</td>\n",
       "      <td>595.8</td>\n",
       "      <td>0.00</td>\n",
       "      <td>0.00</td>\n",
       "      <td>entrance2</td>\n",
       "      <td>entrance1</td>\n",
       "      <td>1</td>\n",
       "      <td>339 days 01:21:11</td>\n",
       "    </tr>\n",
       "    <tr>\n",
       "      <th>15914</th>\n",
       "      <td>20154501084537-684</td>\n",
       "      <td>4</td>\n",
       "      <td>2015-09-01 20:45:37</td>\n",
       "      <td>2015-09-02 08:40:47</td>\n",
       "      <td>715.17</td>\n",
       "      <td>0.00</td>\n",
       "      <td>0.00</td>\n",
       "      <td>0.0</td>\n",
       "      <td>692.25</td>\n",
       "      <td>0.00</td>\n",
       "      <td>entrance3</td>\n",
       "      <td>entrance0</td>\n",
       "      <td>1</td>\n",
       "      <td>273 days 03:10:29</td>\n",
       "    </tr>\n",
       "    <tr>\n",
       "      <th>16150</th>\n",
       "      <td>20160623090611-424</td>\n",
       "      <td>4</td>\n",
       "      <td>2016-03-23 21:06:11</td>\n",
       "      <td>2016-03-24 09:05:31</td>\n",
       "      <td>719.33</td>\n",
       "      <td>0.00</td>\n",
       "      <td>659.03</td>\n",
       "      <td>0.0</td>\n",
       "      <td>0.00</td>\n",
       "      <td>0.00</td>\n",
       "      <td>entrance1</td>\n",
       "      <td>entrance2</td>\n",
       "      <td>1</td>\n",
       "      <td>69 days 02:49:55</td>\n",
       "    </tr>\n",
       "    <tr>\n",
       "      <th>16172</th>\n",
       "      <td>20161008061012-639</td>\n",
       "      <td>4</td>\n",
       "      <td>2016-05-08 18:10:12</td>\n",
       "      <td>2016-05-09 07:36:46</td>\n",
       "      <td>806.57</td>\n",
       "      <td>0.00</td>\n",
       "      <td>0.00</td>\n",
       "      <td>0.0</td>\n",
       "      <td>755.17</td>\n",
       "      <td>0.00</td>\n",
       "      <td>entrance3</td>\n",
       "      <td>entrance4</td>\n",
       "      <td>1</td>\n",
       "      <td>23 days 05:45:54</td>\n",
       "    </tr>\n",
       "  </tbody>\n",
       "</table>\n",
       "</div>"
      ],
      "text/plain": [
       "                   car-id  car_type           enter_date            exit_date  \\\n",
       "4531   20154112014114-381         1  2015-06-12 13:41:14  2015-07-26 23:00:51   \n",
       "6853   20162027042012-940         1  2016-05-27 16:20:12  2016-05-29 10:51:29   \n",
       "7002   20162904122951-717         1  2016-03-04 12:29:51  2016-04-10 22:14:22   \n",
       "10501  20154519024544-322         2  2015-06-19 14:45:44  2015-10-05 00:36:54   \n",
       "13828  20153712013720-181         3  2015-07-12 13:37:20  2015-08-04 22:32:31   \n",
       "15272  20150204100226-134         4  2015-07-04 22:02:26  2015-07-05 08:41:17   \n",
       "15299  20150322080300-861         4  2015-10-22 20:03:00  2015-10-23 07:27:00   \n",
       "15738   20153427103455-30         4  2015-06-27 22:34:55  2015-06-28 09:28:29   \n",
       "15914  20154501084537-684         4  2015-09-01 20:45:37  2015-09-02 08:40:47   \n",
       "16150  20160623090611-424         4  2016-03-23 21:06:11  2016-03-24 09:05:31   \n",
       "16172  20161008061012-639         4  2016-05-08 18:10:12  2016-05-09 07:36:46   \n",
       "\n",
       "       total_in_time  entrance0  entrance1  entrance2  entrance3  entrance4  \\\n",
       "4531        63919.62    6637.30       0.00        0.0       0.00       0.00   \n",
       "6853         2551.28       0.00       0.00        0.0       0.00       4.03   \n",
       "7002        53864.52       0.00       0.00        0.0    6639.97       0.00   \n",
       "10501      154671.17       0.00       0.00        0.0       0.00    6611.17   \n",
       "13828       33655.18       0.00       0.00        0.0       0.00    6654.00   \n",
       "15272         638.85       0.00     582.32        0.0       0.00       0.00   \n",
       "15299         684.00     647.02       0.00        0.0       0.00       0.00   \n",
       "15738         653.57       0.00       0.00      595.8       0.00       0.00   \n",
       "15914         715.17       0.00       0.00        0.0     692.25       0.00   \n",
       "16150         719.33       0.00     659.03        0.0       0.00       0.00   \n",
       "16172         806.57       0.00       0.00        0.0     755.17       0.00   \n",
       "\n",
       "      entry_gate  exit_gate  exited time_till_last_data_entry  \n",
       "4531   entrance0  entrance0       1         354 days 10:14:52  \n",
       "6853   entrance2  entrance4       1           4 days 07:35:54  \n",
       "7002   entrance3  entrance3       1          88 days 11:26:15  \n",
       "10501  entrance1  entrance4       1         347 days 09:10:22  \n",
       "13828  entrance2  entrance4       1         324 days 10:18:46  \n",
       "15272  entrance1  entrance4       1         332 days 01:53:40  \n",
       "15299  entrance0  entrance4       1         222 days 03:53:06  \n",
       "15738  entrance2  entrance1       1         339 days 01:21:11  \n",
       "15914  entrance3  entrance0       1         273 days 03:10:29  \n",
       "16150  entrance1  entrance2       1          69 days 02:49:55  \n",
       "16172  entrance3  entrance4       1          23 days 05:45:54  "
      ]
     },
     "execution_count": 103,
     "metadata": {},
     "output_type": "execute_result"
    }
   ],
   "source": [
    "outliers"
   ]
  },
  {
   "cell_type": "code",
   "execution_count": 6,
   "metadata": {},
   "outputs": [
    {
     "data": {
      "image/png": "[encoded data removed]",
      "text/plain": [
       "<Figure size 1000x600 with 1 Axes>"
      ]
     },
     "metadata": {},
     "output_type": "display_data"
    }
   ],
   "source": [
    "fig,ax = plt.subplots(figsize=(10,6))\n",
    "\n",
    "for col in outliers.columns[5:10]:\n",
    "    bars = ax.bar(outliers['car-id'],outliers[col],label=col)\n",
    "    for bar,car_type in zip(bars,outliers['car_type']):\n",
    "        height = bar.get_height()\n",
    "        if height > 0:\n",
    "            ax.annotate(f'car Type: {car_type}',\n",
    "                    xy=(bar.get_x() + bar.get_width() / 2, height),\n",
    "                    xytext=(0, 3),  # 3 points vertical offset\n",
    "                    textcoords=\"offset points\",\n",
    "                    ha='center',\n",
    "                    fontsize=6)\n",
    "    \n",
    "ax.tick_params(axis='x', rotation=90)\n",
    "ax.set_xlabel('Car Id')\n",
    "ax.set_ylabel('Self loop time (Minutes)')\n",
    "ax.legend()\n",
    "plt.show()"
   ]
  },
  {
   "cell_type": "code",
   "execution_count": 55,
   "metadata": {},
   "outputs": [],
   "source": [
    "X = []\n",
    "Y = []\n",
    "Size = []\n",
    "X_b = []\n",
    "Y_b = []\n",
    "car_types = []\n",
    "new_df =  pd.DataFrame()\n",
    "count = []\n",
    "ent = []\n",
    "for i in outliers['car-id']:\n",
    "    x =[]\n",
    "    y = []\n",
    "    for gate, value in self_loop_df[self_loop_df['car-id']==i][self_loop_df.columns[14:19]].T.iterrows():\n",
    "        if list(value)[0] >0:\n",
    "            Size.append(list(value))\n",
    "            point_ = pos[gate]\n",
    "            X_b.append(point_[0])\n",
    "            Y_b.append(point_[1])\n",
    "            ent.append(gate)\n",
    "            break\n",
    "    temp =  df[df['car-id']==i]\n",
    "    new_df = pd.concat((temp,new_df))\n",
    "    car_types.append(f\"car type: {np.unique(temp['car-type'])[0]} Id : {i}\")\n",
    "    for j in temp['gate-name']:\n",
    "        point =  pos[j]\n",
    "        x.append(point[0])\n",
    "        y.append(point[1])\n",
    "    count.append(temp[temp['gate-name']==gate]['gate-name'].count())\n",
    "    X.append(x)\n",
    "    Y.append(y)"
   ]
  },
  {
   "cell_type": "code",
   "execution_count": 56,
   "metadata": {},
   "outputs": [],
   "source": [
    "texts = [f\"Gate: {gate} <br> Time : {time_[0]} <br> Count : {c}\" for gate,time_,c in zip(ent,Size,count)]"
   ]
  },
  {
   "cell_type": "code",
   "execution_count": 57,
   "metadata": {},
   "outputs": [
    {
     "data": {
      "text/plain": [
       "['Gate: entrance0 <br> Time : 6637.3 <br> Count : 14',\n",
       " 'Gate: entrance4 <br> Time : 4.03 <br> Count : 5',\n",
       " 'Gate: entrance3 <br> Time : 6639.97 <br> Count : 12',\n",
       " 'Gate: entrance4 <br> Time : 6611.17 <br> Count : 31',\n",
       " 'Gate: entrance4 <br> Time : 6654.0 <br> Count : 7',\n",
       " 'Gate: entrance1 <br> Time : 582.32 <br> Count : 3',\n",
       " 'Gate: entrance0 <br> Time : 647.02 <br> Count : 3',\n",
       " 'Gate: entrance2 <br> Time : 595.8 <br> Count : 3',\n",
       " 'Gate: entrance3 <br> Time : 692.25 <br> Count : 3',\n",
       " 'Gate: entrance1 <br> Time : 659.03 <br> Count : 3',\n",
       " 'Gate: entrance3 <br> Time : 755.17 <br> Count : 3']"
      ]
     },
     "execution_count": 57,
     "metadata": {},
     "output_type": "execute_result"
    }
   ],
   "source": [
    "texts"
   ]
  },
  {
   "cell_type": "code",
   "execution_count": 59,
   "metadata": {},
   "outputs": [
    {
     "data": {
      "text/plain": [
       "4531     1\n",
       "6853     1\n",
       "7002     1\n",
       "10501    2\n",
       "13828    3\n",
       "15272    4\n",
       "15299    4\n",
       "15738    4\n",
       "15914    4\n",
       "16150    4\n",
       "16172    4\n",
       "Name: car_type, dtype: int64"
      ]
     },
     "execution_count": 59,
     "metadata": {},
     "output_type": "execute_result"
    }
   ],
   "source": []
  },
  {
   "cell_type": "code",
   "execution_count": 62,
   "metadata": {},
   "outputs": [],
   "source": [
    "with open(\"./invert_f.jpg\", \"rb\") as image_file:\n",
    "    encoded_image = base64.b64encode(image_file.read()).decode('utf-8')\n",
    "\n",
    "# Create figure\n",
    "fig = go.Figure()\n",
    "traces = []\n",
    "traces.append(go.Scatter(x=[25,900], y=[25,900], mode='markers', marker=dict(size=1, color=\"rgba(255,0,0,0.5)\"), name='',showlegend=False))\n",
    "for ind in range(11):\n",
    "    trace_bubble = go.Scatter(x=[X_b[ind]], y=[Y_b[ind]], text = texts[ind],mode='markers', marker=dict(size=20, color=\"rgba(255,0,0,0.5)\"), name='',showlegend=False)\n",
    "    trace_line =  go.Scatter(x=X[ind], y=Y[ind], mode='lines',line=dict(color=\"rgba(255,0,0,0.5)\", width=2, dash='dashdot'), name=\"\",showlegend=False)\n",
    "    if X[ind][0]==X[ind][-1] and  Y[ind][0]==Y[ind][-1]:\n",
    "        text1 = \"I/O\"\n",
    "        text2 = \"I/O\"\n",
    "    else:\n",
    "        text1 = \"IN\"\n",
    "        text2 = \"OUT\" \n",
    "    trace_start = go.Scatter(x=[X[ind][0]-20], y=[Y[ind][0]-20], mode='text',text=text1,textfont=dict(size=10,color=\"rgb(0,0,255)\"), name='',showlegend=False)\n",
    "    trace_end = go.Scatter(x=[X[ind][-1]-20], y=[Y[ind][-1]-20], mode='text',text=text2,textfont=dict(size=10,color=\"rgb(0,0,255)\"),name='',showlegend=False)\n",
    "    traces.append(trace_start)\n",
    "    traces.append(trace_bubble)\n",
    "    traces.append(trace_line)\n",
    "    traces.append(trace_end)\n",
    "    \n",
    "\n",
    "\n",
    "button_dic = []\n",
    "count = 1\n",
    "for cartid,cartype in zip(outliers['car-id'],outliers['car_type']):\n",
    "    vis = [True]\n",
    "    for i in car_types:\n",
    "        if i.endswith(cartid):\n",
    "            vis.append(True)\n",
    "            vis.append(True)\n",
    "            vis.append(True)\n",
    "            vis.append(True)\n",
    "        else:\n",
    "            vis.append(False)\n",
    "            vis.append(False)\n",
    "            vis.append(False)\n",
    "            vis.append(False)\n",
    "    temp = dict(label=f\"{count}\",\n",
    "        method=\"update\",\n",
    "        args=[{\"visible\": vis},\n",
    "            {\"title\":  f\" Car Type : {cartype}  <br>Car Id : {cartid}\",\n",
    "            \"annotations\": []}])\n",
    "    count+=1\n",
    "    button_dic.append(temp)\n",
    "\n",
    "fig = go.Figure(data=traces)\n",
    "\n",
    "fig.add_layout_image(\n",
    "        dict(\n",
    "            source=f\"data:./invert_f.jpg;base64,{encoded_image}\",\n",
    "            xref=\"x\",\n",
    "            yref=\"y\",\n",
    "            x=0,\n",
    "            y=982,\n",
    "            sizex=982,\n",
    "            sizey=982,\n",
    "            opacity=1,\n",
    "             sizing=\"stretch\",\n",
    "            layer=\"below\")\n",
    ")\n",
    "\n",
    "fig.update_layout(\n",
    "    updatemenus=[\n",
    "        dict(\n",
    "            type=\"buttons\",\n",
    "            direction=\"right\",\n",
    "            active=0,\n",
    "            x=0.57,\n",
    "            y=1.2,\n",
    "            buttons=button_dic,\n",
    "        )\n",
    "    ])\n",
    "\n",
    "# Set templates\n",
    "fig.update_layout(height=982,\n",
    "   width=982,\n",
    ")\n",
    "\n",
    "fig.write_html(\"anamoly_selfloop_at_entrance.html\", include_plotlyjs=\"cdn\")\n",
    "# fig.show()"
   ]
  },
  {
   "cell_type": "code",
   "execution_count": 442,
   "metadata": {},
   "outputs": [
    {
     "name": "stdout",
     "output_type": "stream",
     "text": [
      "['entrance0', 'general-gate1', 'ranger-stop2', 'ranger-stop0', 'general-gate2', 'general-gate5', 'camping6', 'camping6', 'general-gate5', 'general-gate2', 'ranger-stop0', 'ranger-stop2', 'general-gate1', 'entrance0', 'entrance0', 'general-gate1', 'ranger-stop2', 'ranger-stop0', 'general-gate2', 'general-gate5', 'camping6', 'camping6', 'general-gate5', 'general-gate2', 'ranger-stop0', 'ranger-stop2', 'general-gate1', 'entrance0', 'entrance0', 'general-gate1', 'ranger-stop2', 'ranger-stop0', 'general-gate2', 'general-gate5', 'camping6', 'camping6', 'general-gate5', 'general-gate2', 'ranger-stop0', 'ranger-stop2', 'general-gate1', 'entrance0', 'entrance0', 'general-gate1', 'ranger-stop2', 'ranger-stop0', 'general-gate2', 'general-gate5', 'camping6', 'camping6', 'general-gate5', 'general-gate2', 'ranger-stop0', 'ranger-stop2', 'general-gate1', 'entrance0', 'entrance0', 'general-gate1', 'ranger-stop2', 'ranger-stop0', 'general-gate2', 'general-gate5', 'camping6', 'camping6', 'general-gate5', 'general-gate2', 'ranger-stop0', 'ranger-stop2', 'general-gate1', 'entrance0', 'entrance0', 'general-gate1', 'ranger-stop2', 'ranger-stop0', 'general-gate2', 'general-gate5', 'camping6', 'camping6', 'general-gate5', 'general-gate2', 'ranger-stop0', 'ranger-stop2', 'general-gate1', 'entrance0', 'entrance0', 'general-gate1', 'ranger-stop2', 'ranger-stop0', 'general-gate2', 'general-gate5', 'camping6', 'camping6', 'general-gate5', 'general-gate2', 'ranger-stop0', 'ranger-stop2', 'general-gate1', 'entrance0']\n"
     ]
    }
   ],
   "source": [
    "print(list(df[df['car-id']==\"20154112014114-381\"]['gate-name']))"
   ]
  },
  {
   "cell_type": "code",
   "execution_count": 412,
   "metadata": {},
   "outputs": [
    {
     "data": {
      "text/plain": [
       "[True,\n",
       " True,\n",
       " False,\n",
       " False,\n",
       " False,\n",
       " False,\n",
       " False,\n",
       " False,\n",
       " False,\n",
       " False,\n",
       " False,\n",
       " False,\n",
       " False,\n",
       " False,\n",
       " False,\n",
       " False,\n",
       " False,\n",
       " False,\n",
       " False,\n",
       " False,\n",
       " False,\n",
       " False]"
      ]
     },
     "execution_count": 412,
     "metadata": {},
     "output_type": "execute_result"
    }
   ],
   "source": [
    "i['args'][0]['visible']"
   ]
  },
  {
   "cell_type": "code",
   "execution_count": 386,
   "metadata": {},
   "outputs": [
    {
     "data": {
      "text/plain": [
       "array(['1', '2', '3', '4'], dtype=object)"
      ]
     },
     "execution_count": 386,
     "metadata": {},
     "output_type": "execute_result"
    }
   ],
   "source": [
    "np.unique"
   ]
  }
 ],
 "metadata": {
  "kernelspec": {
   "display_name": "Python 3",
   "language": "python",
   "name": "python3"
  },
  "language_info": {
   "codemirror_mode": {
    "name": "ipython",
    "version": 3
   },
   "file_extension": ".py",
   "mimetype": "text/x-python",
   "name": "python",
   "nbconvert_exporter": "python",
   "pygments_lexer": "ipython3",
   "version": "3.11.8"
  }
 },
 "nbformat": 4,
 "nbformat_minor": 2
}
