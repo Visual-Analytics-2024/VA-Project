{
 "cells": [
  {
   "cell_type": "code",
   "execution_count": 103,
   "metadata": {},
   "outputs": [],
   "source": [
    "import numpy as np \n",
    "import pandas as pd\n",
    "from tqdm import tqdm\n",
    "import os\n",
    "import json\n",
    "from bigtree import dict_to_tree\n",
    "from bigtree import tree_to_dot\n"
   ]
  },
  {
   "cell_type": "code",
   "execution_count": 16,
   "metadata": {},
   "outputs": [],
   "source": [
    "path = 'C:/Users/18565/Desktop/Classes/VA/Project/Code/VA-Project'\n",
    "file_ = open(os.path.join(path,'data/json_data.json'))\n",
    "data_dic = json.loads(file_.read())"
   ]
  },
  {
   "cell_type": "code",
   "execution_count": 143,
   "metadata": {},
   "outputs": [],
   "source": [
    "def create_tree(data,ignore_car_id=None,get_analomy=None):\n",
    "    tree = {\"start\":{\"value\":4,'time':0}}\n",
    "    for car in data:\n",
    "        if ignore_car_id:\n",
    "            if car['car-id'] in ignore_car_id:\n",
    "                # print(\"here\")\n",
    "                continue\n",
    "        if get_analomy and ignore_car_id==None:\n",
    "            if car['car-id'] not in get_analomy:\n",
    "                continue\n",
    "        route = car['path_taken'][0]\n",
    "        key = \"start/\"+list(route.keys())[0].split(\" \")[0]\n",
    "        if key in tree.keys():\n",
    "            tree[key]['value']+=1\n",
    "        else:\n",
    "            tree[key]={\"value\":1,'time':0}\n",
    "        \n",
    "        for route in car['path_taken']:\n",
    "            temp =list(route.keys())[0].split(\" \")[-1]\n",
    "            key+=\"/\"\n",
    "            key+= temp\n",
    "            if key in tree.keys():\n",
    "                tree[key]['value']+=1\n",
    "                tree[key]['time']+=list(route.values())[0]\n",
    "            else:\n",
    "                tree[key]={\"value\":1,'time':list(route.values())[0]}\n",
    "    return tree"
   ]
  },
  {
   "cell_type": "markdown",
   "metadata": {},
   "source": [
    "# Routes Analysis of car type 1"
   ]
  },
  {
   "cell_type": "code",
   "execution_count": 100,
   "metadata": {},
   "outputs": [],
   "source": [
    "root_dic = create_tree(data_dic['data']['1'])"
   ]
  },
  {
   "cell_type": "code",
   "execution_count": 102,
   "metadata": {},
   "outputs": [],
   "source": [
    "root = dict_to_tree(root_dic)"
   ]
  },
  {
   "cell_type": "code",
   "execution_count": 104,
   "metadata": {},
   "outputs": [],
   "source": [
    "graph = tree_to_dot(root)"
   ]
  },
  {
   "cell_type": "code",
   "execution_count": 105,
   "metadata": {},
   "outputs": [],
   "source": [
    "graph.write_png(os.path.join(path,\"data/fig/cartype1.png\"))"
   ]
  },
  {
   "cell_type": "markdown",
   "metadata": {},
   "source": [
    "We noticed 3 long routes in the Tree figure of Car type 1. Analyzing more on that"
   ]
  },
  {
   "cell_type": "code",
   "execution_count": 124,
   "metadata": {},
   "outputs": [],
   "source": [
    "def get_max_length_routes(data,num_routes):\n",
    "    max_lengths = [0]*num_routes\n",
    "    car_ids = [0]*num_routes\n",
    "    for car in data:\n",
    "        for i in range(num_routes):\n",
    "            if max_lengths[i] < len(car['path_taken']):\n",
    "                max_lengths[i] = len(car['path_taken'])\n",
    "                car_ids[i] = car['car-id']\n",
    "                break\n",
    "    return car_ids,max_lengths"
   ]
  },
  {
   "cell_type": "code",
   "execution_count": 125,
   "metadata": {},
   "outputs": [],
   "source": [
    "max_length_route_cars_ids, max_length = get_max_length_routes(data_dic['data'][\"1\"],3)"
   ]
  },
  {
   "cell_type": "code",
   "execution_count": 127,
   "metadata": {},
   "outputs": [
    {
     "data": {
      "text/plain": [
       "(['20154112014114-381', '20155705025759-63', '20162904122951-717'],\n",
       " [97, 69, 35])"
      ]
     },
     "execution_count": 127,
     "metadata": {},
     "output_type": "execute_result"
    }
   ],
   "source": [
    "max_length_route_cars_ids,max_length"
   ]
  },
  {
   "cell_type": "code",
   "execution_count": 130,
   "metadata": {},
   "outputs": [],
   "source": [
    "df = pd.read_csv(os.path.join(path,\"data/Lekagul Sensor Data.csv\"))"
   ]
  },
  {
   "cell_type": "code",
   "execution_count": 131,
   "metadata": {},
   "outputs": [
    {
     "name": "stdout",
     "output_type": "stream",
     "text": [
      "('20154112014114-381', '2015-06-12 13:41:14', '2015-07-26 23:00:51', 98)\n",
      "('20155705025759-63', '2015-06-05 14:57:59', '2016-05-20 14:43:07', 70)\n",
      "('20162904122951-717', '2016-03-04 12:29:51', '2016-04-10 22:14:22', 36)\n"
     ]
    }
   ],
   "source": [
    "for car_id in max_length_route_cars_ids:\n",
    "    car_df = df[df['car-id']==car_id]\n",
    "    in_time = car_df['Timestamp'].iloc[0]\n",
    "    out_time = car_df['Timestamp'].iloc[-1]\n",
    "    car_df.to_csv(os.path.join(path,\"data/anolomy/stayed_to_long/catype1_entries_\"+str(len(car_df))+\"_\"+car_id+\".csv\"))\n",
    "    print((car_id,in_time,out_time,len(car_df)))\n",
    "    \n",
    "   "
   ]
  },
  {
   "cell_type": "code",
   "execution_count": 145,
   "metadata": {},
   "outputs": [],
   "source": [
    "tree_without_analomy = create_tree(data_dic['data']['1'],max_length_route_cars_ids)"
   ]
  },
  {
   "cell_type": "code",
   "execution_count": 141,
   "metadata": {},
   "outputs": [],
   "source": [
    "root = dict_to_tree(tree_without_analomy)\n",
    "graph = tree_to_dot(root)"
   ]
  },
  {
   "cell_type": "code",
   "execution_count": 142,
   "metadata": {},
   "outputs": [],
   "source": [
    "graph.write_png(os.path.join(path,\"data/fig/cartype1_without_analomy.png\"))"
   ]
  },
  {
   "cell_type": "code",
   "execution_count": 146,
   "metadata": {},
   "outputs": [],
   "source": [
    "tree_analomy = create_tree(data_dic['data']['1'],None,max_length_route_cars_ids)"
   ]
  },
  {
   "cell_type": "code",
   "execution_count": 149,
   "metadata": {},
   "outputs": [],
   "source": [
    "root = dict_to_tree(tree_analomy)\n",
    "graph = tree_to_dot(root)"
   ]
  },
  {
   "cell_type": "code",
   "execution_count": 151,
   "metadata": {},
   "outputs": [],
   "source": [
    "graph.write_png(os.path.join(path,\"data/fig/cartype1_analomy.png\"))"
   ]
  },
  {
   "cell_type": "markdown",
   "metadata": {},
   "source": []
  },
  {
   "cell_type": "code",
   "execution_count": 2,
   "metadata": {},
   "outputs": [],
   "source": []
  },
  {
   "cell_type": "code",
   "execution_count": 13,
   "metadata": {},
   "outputs": [],
   "source": []
  },
  {
   "cell_type": "code",
   "execution_count": 14,
   "metadata": {},
   "outputs": [],
   "source": []
  },
  {
   "cell_type": "code",
   "execution_count": 16,
   "metadata": {},
   "outputs": [],
   "source": [
    "tree ={}"
   ]
  },
  {
   "cell_type": "code",
   "execution_count": null,
   "metadata": {},
   "outputs": [],
   "source": [
    "def check_if_already_exists(node1,node2, data):\n",
    "    \n",
    "    key = list(data.keys())[0]\n",
    "    if node1 == key:\n",
    "        return data\n",
    "    if "
   ]
  },
  {
   "cell_type": "code",
   "execution_count": 28,
   "metadata": {},
   "outputs": [],
   "source": [
    "for car in data_dic['data']['1']:\n",
    "    if list(car['path_taken'][0].keys())[0].split(\" \")[0] == 'entrance2':\n",
    "        for route in car['path_taken']:\n",
    "            temp = list(route.keys())[0].split(\" \")[0]\n",
    "            temp_dic = tree\n",
    "            while temp in \n",
    "            break\n",
    "    break\n",
    "    "
   ]
  },
  {
   "cell_type": "code",
   "execution_count": 32,
   "metadata": {},
   "outputs": [
    {
     "data": {
      "text/plain": [
       "'entrance2'"
      ]
     },
     "execution_count": 32,
     "metadata": {},
     "output_type": "execute_result"
    }
   ],
   "source": []
  },
  {
   "cell_type": "code",
   "execution_count": null,
   "metadata": {},
   "outputs": [],
   "source": []
  }
 ],
 "metadata": {
  "kernelspec": {
   "display_name": "Python 3",
   "language": "python",
   "name": "python3"
  },
  "language_info": {
   "codemirror_mode": {
    "name": "ipython",
    "version": 3
   },
   "file_extension": ".py",
   "mimetype": "text/x-python",
   "name": "python",
   "nbconvert_exporter": "python",
   "pygments_lexer": "ipython3",
   "version": "3.11.7"
  }
 },
 "nbformat": 4,
 "nbformat_minor": 2
}
