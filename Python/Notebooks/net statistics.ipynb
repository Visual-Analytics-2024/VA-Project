{
 "cells": [
  {
   "cell_type": "code",
   "execution_count": 2,
   "metadata": {},
   "outputs": [],
   "source": [
    "import pandas as pd\n",
    "import os\n",
    "import numpy as np"
   ]
  },
  {
   "cell_type": "code",
   "execution_count": 3,
   "metadata": {},
   "outputs": [
    {
     "name": "stdout",
     "output_type": "stream",
     "text": [
      "1 : 67698\n",
      "2 : 40199\n",
      "2P : 23555\n",
      "3 : 26427\n",
      "4 : 6924\n",
      "5 : 4485\n",
      "6 : 2189\n"
     ]
    }
   ],
   "source": [
    "path = \"C:/Users/18565/Desktop/Classes/VA/Project/Code/VA-Project/\"\n",
    "df = pd.read_csv(os.path.join(path,\"data\\Lekagul Sensor Data.csv\"))\n",
    "new_df = df\n",
    "new_df['gate_category'] = [i[:-1] for i in list(new_df['gate-name'])]\n",
    "new_df.to_csv(os.path.join(path,\"data\\data with added gate category for tableau.csv\"))\n",
    "df['Timestamp'] = pd.to_datetime(df['Timestamp'])\n",
    "df.set_index(\"Timestamp\",inplace=True)\n",
    "for cat in np.unique(df['car-type']):\n",
    "    print(cat+\" : \"+str(len(df[df['car-type']==cat])))\n",
    "    "
   ]
  },
  {
   "cell_type": "code",
   "execution_count": 15,
   "metadata": {},
   "outputs": [
    {
     "data": {
      "text/plain": [
       "40"
      ]
     },
     "execution_count": 15,
     "metadata": {},
     "output_type": "execute_result"
    }
   ],
   "source": []
  },
  {
   "cell_type": "code",
   "execution_count": null,
   "metadata": {},
   "outputs": [],
   "source": []
  }
 ],
 "metadata": {
  "kernelspec": {
   "display_name": "Python 3",
   "language": "python",
   "name": "python3"
  },
  "language_info": {
   "codemirror_mode": {
    "name": "ipython",
    "version": 3
   },
   "file_extension": ".py",
   "mimetype": "text/x-python",
   "name": "python",
   "nbconvert_exporter": "python",
   "pygments_lexer": "ipython3",
   "version": "3.11.8"
  }
 },
 "nbformat": 4,
 "nbformat_minor": 2
}
