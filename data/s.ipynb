{
 "cells": [
  {
   "cell_type": "code",
   "execution_count": null,
   "metadata": {},
   "outputs": [],
   "source": [
    "class Solution:\n",
    "    def cherryPickup(self, grid: List[List[int]]) -> int\n",
    "        self.grid = grid\n",
    "        self.r1 = [0,0,0]\n",
    "        self.r2 = [0,len(grid[0])-1,0]\n",
    "        pass\n",
    "    def _get_max(self,i,j):\n",
    "        values = []\n",
    "        pos = []\n",
    "        if ( j - 1)>-1:\n",
    "            values.append(grid[i+1][j-1])\n",
    "            pos.append(j-1)\n",
    "        values.append(grid[i+1][j])\n",
    "        pos.append(j)\n",
    "        if j+1 <len(grid[0]):\n",
    "            values.append(grid[i+1][j])\n",
    "            pos.append(j+1)\n",
    "        return sorted(values), sorted(pos,key=values)\n",
    "    def update(self,i,j1,j2):\n",
    "        v1 , pos1 = self.max(i,j1)\n",
    "        v2 , pos2 = self.max(i,j2)\n",
    "        self.r1[0] =i\n",
    "        self.r2[0] =i\n",
    "        if mod(j1-j2) >1: \n",
    "            self.r1[1] = pos1[-1]\n",
    "            self.r2[1] = pos2[-1]\n",
    "            self.r1[1] +=v1[-1]\n",
    "            self.r2[1] +=v2[-1]\n",
    "        else:\n",
    "            self.r1[1] = pos1[-1]\n",
    "            self.r2[1] = pos2[-1]\n",
    "            self.r1[1] +=v1[-2]\n",
    "            self.r2[1] +=v2[-2]"
   ]
  }
 ],
 "metadata": {
  "language_info": {
   "name": "python"
  }
 },
 "nbformat": 4,
 "nbformat_minor": 2
}
